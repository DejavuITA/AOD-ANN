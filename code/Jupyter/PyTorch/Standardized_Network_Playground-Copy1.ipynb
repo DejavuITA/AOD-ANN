{
 "cells": [
  {
   "cell_type": "code",
   "execution_count": 1,
   "metadata": {
    "collapsed": true
   },
   "outputs": [],
   "source": [
    "# plotting libraries\n",
    "import matplotlib\n",
    "import matplotlib.pyplot as plt \n",
    "# numpy (math) libary\n",
    "import numpy as np\n",
    "\n",
    "from os import walk\n",
    "\n",
    "path1 = '../../../data/'\n",
    "\n",
    "# torch library and sublibraries\n",
    "import torch\n",
    "from torch.autograd import Variable\n",
    "import torch.nn as nn\n",
    "import torch.nn.functional as F"
   ]
  },
  {
   "cell_type": "code",
   "execution_count": 2,
   "metadata": {
    "collapsed": true
   },
   "outputs": [],
   "source": [
    "f = [] # empty list of files\n",
    "for (dirpath, dirnames, filenames) in walk(path1):\n",
    "    f.extend(filenames)\n",
    "\n",
    "# sort list alphabetically\n",
    "f.sort()\n",
    "# remove non .ssv files from list\n",
    "f = [x for x in f if x[-4:]==\".ssv\"]"
   ]
  },
  {
   "cell_type": "code",
   "execution_count": 3,
   "metadata": {},
   "outputs": [
    {
     "name": "stdout",
     "output_type": "stream",
     "text": [
      "full_speach_data.ssv\n",
      "input data x has shape:  (990, 10)\n",
      "output data y has shape:  (990, 11)\n",
      "\n"
     ]
    }
   ],
   "source": [
    "print(f[0])\n",
    "\n",
    "temp = np.loadtxt(path1+f[0])\n",
    "data = {}\n",
    "\n",
    "data['x'] = np.copy(temp)[:,3:-1]\n",
    "y = np.zeros((temp.shape[0], 11))\n",
    "for jj in range(temp.shape[0]):\n",
    "    y[jj, int(temp[jj,-1])] += 1\n",
    "data['y'] = np.copy(y)\n",
    "del y\n",
    "\n",
    "print('input data x has shape: ',  data['x'].shape)\n",
    "print('output data y has shape: ', data['y'].shape)\n",
    "print()\n",
    "\n",
    "if 0:\n",
    "    jj = 6\n",
    "    print(data['x'][jj,:])\n",
    "    print(data['y'][jj,:])\n",
    "    print(temp[jj,-1])"
   ]
  },
  {
   "cell_type": "code",
   "execution_count": 4,
   "metadata": {
    "collapsed": true
   },
   "outputs": [],
   "source": [
    "# normalize data in the range [0,1]\n",
    "for jj in range(data['x'].shape[1]):\n",
    "    data['x'][:,jj] = (data['x'][:,jj]-min(data['x'][:,jj]))/max(data['x'][:,jj])"
   ]
  },
  {
   "cell_type": "code",
   "execution_count": 5,
   "metadata": {},
   "outputs": [
    {
     "name": "stdout",
     "output_type": "stream",
     "text": [
      "(528, 10)\n",
      "(528, 11)\n",
      "\n",
      "(462, 10)\n",
      "(462, 11)\n"
     ]
    }
   ],
   "source": [
    "# divide training and test sets\n",
    "train = {}\n",
    "test = {}\n",
    "\n",
    "# The problem is to train the network as well as possible using only\n",
    "# on data from \"speakers\" 0-47, and then to test the network on\n",
    "# speakers 48-89, reporting the number of correct classifications\n",
    "# in the test set.\n",
    "\n",
    "# setting '0'\n",
    "default    = [48*11, 42*11]\n",
    "# setting '1'\n",
    "nondefault = [45*11, 45*11]\n",
    "\n",
    "setting = 0\n",
    "if setting == 0:\n",
    "    train['x'] = np.copy(data['x'][:default[0],:])\n",
    "    train['y'] = np.copy(data['y'][:default[0],:])\n",
    "    \n",
    "    test['x']  = np.copy(data['x'][-default[1]:,:])\n",
    "    test['y']  = np.copy(data['y'][-default[1]:,:])\n",
    "#elif setting == 1:\n",
    "#    train['x'] = np.copy(data['x'][:nondefault[0],:])\n",
    "#    train['y'] = np.copy(data['y'][:nondefault[0],:])\n",
    "#    \n",
    "#    test['x']  = np.copy(data['x'][-nondefault[1]:,:])\n",
    "#    test['y']  = np.copy(data['y'][-nondefault[1]:,:])\n",
    "    \n",
    "print(train['x'].shape)\n",
    "print(train['y'].shape)\n",
    "print()\n",
    "print(test['x'].shape)\n",
    "print(test['y'].shape)"
   ]
  },
  {
   "cell_type": "code",
   "execution_count": 6,
   "metadata": {
    "collapsed": true
   },
   "outputs": [],
   "source": [
    "# create x & y torch Variables\n",
    "x = Variable( torch.from_numpy(train['x']).float() )\n",
    "y = Variable( torch.from_numpy(train['y']).float() )\n",
    "# either input data is float or model becomes doublefloat\n",
    "# https://stackoverflow.com/questions/44717100/pytorch-convert-floattensor-into-doubletensor?rq=1\n",
    "# create \n",
    "x_test = Variable( torch.from_numpy(test['x']).float() )\n",
    "y_test = Variable( torch.from_numpy(test['y']).float() )"
   ]
  },
  {
   "cell_type": "code",
   "execution_count": 7,
   "metadata": {
    "collapsed": true
   },
   "outputs": [],
   "source": [
    "# define settings for plots\n",
    "def show_graph(string):\n",
    "    fig = plt.figure(figsize=(3*6.4, 2*4.8)) # default = 6.4, 4.8\n",
    "    ax1 = fig.add_subplot(111)\n",
    "\n",
    "    if string=='loglog':\n",
    "        for ii, ee in err.items():\n",
    "            ax1.loglog(ee[2][:], label='error %s, lr=%1.0e'%(ee[0],ee[1]))\n",
    "    elif string=='logy':\n",
    "        for ii, ee in err.items():\n",
    "            ax1.semilogy(ee[2][:], label='error %s, lr=%1.0e'%(ee[0],ee[1]))\n",
    "    elif string=='logx':\n",
    "        for ii, ee in err.items():\n",
    "            ax1.semilogy(ee[2][:], label='error %s, lr=%1.0e'%(ee[0],ee[1]))\n",
    "    else:\n",
    "        for ii, ee in err.items():\n",
    "            ax1.plot(ee[2][:], label='error %s, lr=%1.0e'%(ee[0],ee[1]))\n",
    "\n",
    "    ax1.set_xlabel('iteration number', fontsize = 16)\n",
    "    ax1.set_ylabel('loss', fontsize = 16)\n",
    "    title_string = '%d epochs, batch size %d; [%d, %d, %d] are input, hidden, and output dimensions'%(epochs,N,D_in,H,D_out)\n",
    "    ax1.set_title(title_string, fontsize = 16)\n",
    "    legend = ax1.legend(loc='best', fontsize=16)\n",
    "\n",
    "    plt.show()\n",
    "    plt.close()\n",
    "\n",
    "# prints errors in semi-log axis\n",
    "show_type = 'logy'\n",
    "\n",
    "# some colors\n",
    "colors = (('xkcd:orange', 'xkcd:red'),#\n",
    "          ('xkcd:blue', 'xkcd:purple'),#\n",
    "          ('xkcd:green', 'xkcd:lime'),#\n",
    "         )"
   ]
  },
  {
   "cell_type": "code",
   "execution_count": 8,
   "metadata": {
    "collapsed": true
   },
   "outputs": [],
   "source": [
    "# N is batch size; D_in is input dimension;\n",
    "# H is hidden dimension; D_out is output dimension.\n",
    "N     = train['x'].shape[0]\n",
    "D_in  = train['x'].shape[1]\n",
    "H     = 64\n",
    "D_out = train['y'].shape[1]\n",
    "\n",
    "epochs = int(5e2)"
   ]
  },
  {
   "cell_type": "code",
   "execution_count": 9,
   "metadata": {
    "collapsed": true
   },
   "outputs": [],
   "source": [
    "# model settings\n",
    "base_lr = 1e-4\n",
    "sigm_lr = 1e-6\n",
    "best_lr = 1.5e-5\n",
    "\n",
    "# (re-)initialize data dictionary\n",
    "#mdl = [] # as in model\n",
    "err = {} # as in error"
   ]
  },
  {
   "cell_type": "code",
   "execution_count": 10,
   "metadata": {},
   "outputs": [
    {
     "name": "stdout",
     "output_type": "stream",
     "text": [
      "25 444.2655334472656\n",
      "50 426.4053039550781\n",
      "75 414.9172058105469\n",
      "100 405.90618896484375\n",
      "125 398.4095764160156\n",
      "150 391.7622375488281\n",
      "175 385.704833984375\n",
      "200 379.87200927734375\n",
      "225 374.1127624511719\n",
      "250 368.4815979003906\n",
      "275 364.079833984375\n",
      "300 361.0576171875\n",
      "325 352.1493225097656\n",
      "350 346.76068115234375\n",
      "375 340.5955810546875\n",
      "400 333.7928771972656\n",
      "425 327.82269287109375\n",
      "450 322.71807861328125\n",
      "475 316.81500244140625\n",
      "500 310.2469787597656\n"
     ]
    }
   ],
   "source": [
    "# define baseline network with relu (clamp)\n",
    "class Baseline(torch.nn.Module):\n",
    "    def __init__(self, D_in, H, D_out):\n",
    "        \"\"\"\n",
    "        In the constructor we instantiate two nn.Linear modules and assign them as\n",
    "        member variables.\n",
    "        \"\"\"\n",
    "        super(Baseline, self).__init__()\n",
    "        self.linear1 = torch.nn.Linear(D_in, H)\n",
    "        self.linear2 = torch.nn.Linear(H, H)\n",
    "        self.linearOut = torch.nn.Linear(H, D_out)\n",
    "\n",
    "    def forward(self, x):\n",
    "        \"\"\"\n",
    "        In the forward function we accept a Variable of input data and we must return\n",
    "        a Variable of output data. We can use Modules defined in the constructor as\n",
    "        well as arbitrary operators on Variables.\n",
    "        \"\"\"\n",
    "        # sum (linear1) and then relu (clamp)\n",
    "        h1     = self.linear1(x).clamp(min=0)\n",
    "        # sum (linear2) and then relu (clamp)\n",
    "        h2     = self.linear2(h1).clamp(min=0)\n",
    "        # sum (out) and the output\n",
    "        y_pred = self.linearOut(h2)\n",
    "        return y_pred # output = y_pred(icted)\n",
    "\n",
    "# Construct our model by instantiating the class defined above\n",
    "basemodel = Baseline(D_in, H, D_out)\n",
    "\n",
    "# initialize dictionary item\n",
    "err[0] = ('relu',base_lr,[])\n",
    "\n",
    "# The nn package also contains definitions of popular loss functions; in this\n",
    "# case we will use Mean Squared Error (MSE) as our loss function.\n",
    "criterion = torch.nn.MSELoss(size_average=False)\n",
    "optimizer = torch.optim.SGD(basemodel.parameters(), lr=err[0][1])\n",
    "\n",
    "for t in range(epochs):\n",
    "    # Forward pass: Compute predicted y by passing x to the model\n",
    "    y_pred = basemodel(x)\n",
    "\n",
    "    # Compute and print loss\n",
    "    loss = criterion(y_pred, y)\n",
    "    err[0][2].append(loss.data[0])\n",
    "    if (t+1)%(epochs//20) == 0:\n",
    "        print(t+1, loss.data[0])\n",
    "\n",
    "    # Zero gradients, perform a backward pass, and update the weights.\n",
    "    optimizer.zero_grad()\n",
    "    loss.backward()\n",
    "    optimizer.step()\n",
    "    \n",
    "del criterion, optimizer"
   ]
  },
  {
   "cell_type": "code",
   "execution_count": 11,
   "metadata": {},
   "outputs": [
    {
     "data": {
      "image/png": "[encoded data removed]",
      "text/plain": [
       "<matplotlib.figure.Figure at 0x7fc489c9bd30>"
      ]
     },
     "metadata": {},
     "output_type": "display_data"
    }
   ],
   "source": [
    "show_graph(show_type)"
   ]
  },
  {
   "cell_type": "code",
   "execution_count": 12,
   "metadata": {},
   "outputs": [
    {
     "name": "stdout",
     "output_type": "stream",
     "text": [
      "48.268398268398265\n"
     ]
    }
   ],
   "source": [
    "# testing results\n",
    "correctness = 0\n",
    "y_pred = basemodel(x_test)\n",
    "for jj in range(x_test.shape[0]):\n",
    "    if y_test.data[jj, np.argmax(y_pred.data[jj,:]) ]:\n",
    "        correctness += 1\n",
    "correctness = correctness/x_test.shape[0]*100\n",
    "print(correctness)"
   ]
  },
  {
   "cell_type": "code",
   "execution_count": 13,
   "metadata": {},
   "outputs": [
    {
     "ename": "TypeError",
     "evalue": "__init__() takes 4 positional arguments but 5 were given",
     "output_type": "error",
     "traceback": [
      "\u001b[0;31m---------------------------------------------------------------------------\u001b[0m",
      "\u001b[0;31mTypeError\u001b[0m                                 Traceback (most recent call last)",
      "\u001b[0;32m<ipython-input-13-240f0c92288e>\u001b[0m in \u001b[0;36m<module>\u001b[0;34m()\u001b[0m\n\u001b[1;32m     26\u001b[0m \u001b[0;34m\u001b[0m\u001b[0m\n\u001b[1;32m     27\u001b[0m \u001b[0;31m# Construct our model by instantiating the class defined above\u001b[0m\u001b[0;34m\u001b[0m\u001b[0;34m\u001b[0m\u001b[0m\n\u001b[0;32m---> 28\u001b[0;31m \u001b[0mbasemodel2\u001b[0m \u001b[0;34m=\u001b[0m \u001b[0mBaseline2\u001b[0m\u001b[0;34m(\u001b[0m\u001b[0mD_in\u001b[0m\u001b[0;34m,\u001b[0m \u001b[0mH\u001b[0m\u001b[0;34m,\u001b[0m \u001b[0mD_out\u001b[0m\u001b[0;34m,\u001b[0m \u001b[0;36m1\u001b[0m\u001b[0;34m)\u001b[0m\u001b[0;34m\u001b[0m\u001b[0m\n\u001b[0m\u001b[1;32m     29\u001b[0m \u001b[0;34m\u001b[0m\u001b[0m\n\u001b[1;32m     30\u001b[0m \u001b[0;31m# initialize dictionary item\u001b[0m\u001b[0;34m\u001b[0m\u001b[0;34m\u001b[0m\u001b[0m\n",
      "\u001b[0;31mTypeError\u001b[0m: __init__() takes 4 positional arguments but 5 were given"
     ]
    }
   ],
   "source": [
    "# define baseline network with relu (clamp)\n",
    "class Baseline2(torch.nn.Module):\n",
    "    def __init__(self, D_in, H, D_out):\n",
    "        super(Baseline2, self).__init__()\n",
    "        self.linear = torch.nn.Linear(D_in, H)\n",
    "        self.inner =  torch.nn.Linear(H, H) \n",
    "        self.linearOut = torch.nn.Linear(H, D_out)\n",
    "\n",
    "    def forward(self, x, n, NL_out=False):\n",
    "        \n",
    "        h = []\n",
    "        # sum (linear1) and then relu (clamp)\n",
    "        h.append( self.linear[0](x).clamp(min=0) )\n",
    "        # sum (linear2) and then relu (clamp)\n",
    "        for jj in range(n):\n",
    "            h.append( self.inner(h[jj]).clamp(min=0) )\n",
    "        # sum (out) and the output\n",
    "        if not NL_out:\n",
    "            y_pred = self.linearOut(h[-1])\n",
    "        elif NL_out:\n",
    "            y_pred = self.linearOut(h[-1]).clamp(min=0)\n",
    "        else:\n",
    "            raise ValueError('NL_out must be either True or False, but it isn\\'t')\n",
    "        \n",
    "        return y_pred # output = y_pred(icted)\n",
    "\n",
    "# Construct our model by instantiating the class defined above\n",
    "basemodel2 = Baseline2(D_in, H, D_out)\n",
    "\n",
    "# initialize dictionary item\n",
    "err[1] = ('relu2',base_lr,[])\n",
    "\n",
    "# The nn package also contains definitions of popular loss functions; in this\n",
    "# case we will use Mean Squared Error (MSE) as our loss function.\n",
    "criterion = torch.nn.MSELoss(size_average=False)\n",
    "optimizer = torch.optim.SGD(basemodel2.parameters(), lr=err[1][1])\n",
    "\n",
    "for t in range(epochs):\n",
    "    # Forward pass: Compute predicted y by passing x to the model\n",
    "    y_pred = basemodel2(x, 1, False)\n",
    "\n",
    "    # Compute and print loss\n",
    "    loss = criterion(y_pred, y)\n",
    "    err[1][2].append(loss.data[0])\n",
    "    if (t+1)%(epochs//20) == 0:\n",
    "        print(t+1, loss.data[0])\n",
    "\n",
    "    # Zero gradients, perform a backward pass, and update the weights.\n",
    "    optimizer.zero_grad()\n",
    "    loss.backward()\n",
    "    optimizer.step()\n",
    "    \n",
    "del criterion, optimizer"
   ]
  },
  {
   "cell_type": "code",
   "execution_count": null,
   "metadata": {},
   "outputs": [],
   "source": [
    "show_graph(show_type)"
   ]
  },
  {
   "cell_type": "code",
   "execution_count": null,
   "metadata": {},
   "outputs": [],
   "source": [
    "# testing results\n",
    "correctness = 0\n",
    "y_pred = basemodel2(x_test)\n",
    "for jj in range(x_test.shape[0]):\n",
    "    if y_test.data[jj, np.argmax(y_pred.data[jj,:]) ]:\n",
    "        correctness += 1\n",
    "correctness = correctness/x_test.shape[0]*100\n",
    "print(correctness)"
   ]
  },
  {
   "cell_type": "code",
   "execution_count": null,
   "metadata": {},
   "outputs": [],
   "source": [
    "print(basemodel)\n",
    "print(basemodel2)"
   ]
  },
  {
   "cell_type": "code",
   "execution_count": null,
   "metadata": {},
   "outputs": [],
   "source": [
    "for idx, m in enumerate(basemodel.modules()):\n",
    "     print(idx, '->', m)\n",
    "print()\n",
    "for idx, m in enumerate(basemodel2.modules()):\n",
    "     print(idx, '->', m)"
   ]
  },
  {
   "cell_type": "code",
   "execution_count": 14,
   "metadata": {
    "collapsed": true
   },
   "outputs": [],
   "source": [
    "# define baseline network with relu (clamp)\n",
    "class Baseline3(torch.nn.Module):\n",
    "    def __init__(self, D_in, H, D_out, n):\n",
    "        super(Baseline3, self).__init__()\n",
    "        self.linear0 = torch.nn.Linear(D_in, H)\n",
    "        for jj in range(n):\n",
    "            exec(\"self.linear%d = torch.nn.Linear(H, H)\" %(jj+1) );\n",
    "        self.linearOut = torch.nn.Linear(H, D_out)\n",
    "\n",
    "    def forward(self, x, n, NL_out=False):\n",
    "        \n",
    "        h = []\n",
    "        # sum (linear1) and then relu (clamp)\n",
    "        h.append( self.linear0(x).clamp(min=0) )\n",
    "        # sum (linear2) and then relu (clamp)\n",
    "        for jj in range(n):\n",
    "            exec(\"h.append( self.linear%d(h[jj]).clamp(min=0) )\" %(jj+1) );\n",
    "        # sum (out) and the output\n",
    "        if not NL_out:\n",
    "            y_pred = self.linearOut(h[-1])\n",
    "        elif NL_out:\n",
    "            y_pred = self.linearOut(h[-1]).clamp(min=0)\n",
    "        else:\n",
    "            raise ValueError('NL_out must be either True or False, but it isn\\'t')\n",
    "        \n",
    "        return y_pred # output = y_pred(icted)"
   ]
  },
  {
   "cell_type": "code",
   "execution_count": 15,
   "metadata": {
    "collapsed": true
   },
   "outputs": [],
   "source": [
    "# Construct our model by instantiating the class defined above\n",
    "basemodel3 = Baseline3(D_in, H, D_out, 2)\n",
    "\n",
    "# initialize dictionary item\n",
    "err[2] = ('relu2',base_lr,[])\n",
    "\n",
    "# The nn package also contains definitions of popular loss functions; in this\n",
    "# case we will use Mean Squared Error (MSE) as our loss function.\n",
    "criterion = torch.nn.MSELoss(size_average=False)\n",
    "optimizer = torch.optim.SGD(basemodel3.parameters(), lr=err[2][1])"
   ]
  },
  {
   "cell_type": "code",
   "execution_count": 17,
   "metadata": {},
   "outputs": [
    {
     "name": "stdout",
     "output_type": "stream",
     "text": [
      "0 -> Baseline3(\n",
      "  (linear0): Linear(in_features=10, out_features=64)\n",
      "  (linear1): Linear(in_features=64, out_features=64)\n",
      "  (linear2): Linear(in_features=64, out_features=64)\n",
      "  (linearOut): Linear(in_features=64, out_features=11)\n",
      ")\n",
      "1 -> Linear(in_features=10, out_features=64)\n",
      "2 -> Linear(in_features=64, out_features=64)\n",
      "3 -> Linear(in_features=64, out_features=64)\n",
      "4 -> Linear(in_features=64, out_features=11)\n"
     ]
    }
   ],
   "source": [
    "for idx, m in enumerate(basemodel3.modules()):\n",
    "     print(idx, '->', m)"
   ]
  },
  {
   "cell_type": "code",
   "execution_count": null,
   "metadata": {
    "collapsed": true
   },
   "outputs": [],
   "source": []
  }
 ],
 "metadata": {
  "kernelspec": {
   "display_name": "Python 3",
   "language": "python",
   "name": "python3"
  },
  "language_info": {
   "codemirror_mode": {
    "name": "ipython",
    "version": 3
   },
   "file_extension": ".py",
   "mimetype": "text/x-python",
   "name": "python",
   "nbconvert_exporter": "python",
   "pygments_lexer": "ipython3",
   "version": "3.5.3"
  }
 },
 "nbformat": 4,
 "nbformat_minor": 2
}
