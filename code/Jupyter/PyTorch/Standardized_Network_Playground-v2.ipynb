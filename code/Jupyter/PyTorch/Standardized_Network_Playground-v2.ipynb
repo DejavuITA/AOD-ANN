{
 "cells": [
  {
   "cell_type": "code",
   "execution_count": 1,
   "metadata": {
    "collapsed": true
   },
   "outputs": [],
   "source": [
    "# plotting libraries\n",
    "import matplotlib\n",
    "import matplotlib.pyplot as plt \n",
    "# numpy (math) libary\n",
    "import numpy as np\n",
    "\n",
    "from os import walk\n",
    "\n",
    "path1 = '../../../data/'\n",
    "\n",
    "# torch library and sublibraries\n",
    "import torch\n",
    "from torch.autograd import Variable\n",
    "import torch.nn as nn\n",
    "import torch.nn.functional as F"
   ]
  },
  {
   "cell_type": "code",
   "execution_count": 2,
   "metadata": {
    "collapsed": true
   },
   "outputs": [],
   "source": [
    "f = [] # empty list of files\n",
    "for (dirpath, dirnames, filenames) in walk(path1):\n",
    "    f.extend(filenames)\n",
    "\n",
    "# sort list alphabetically\n",
    "f.sort()\n",
    "# remove non .ssv files from list\n",
    "f = [x for x in f if x[-4:]==\".ssv\"]"
   ]
  },
  {
   "cell_type": "code",
   "execution_count": 3,
   "metadata": {},
   "outputs": [
    {
     "name": "stdout",
     "output_type": "stream",
     "text": [
      "full_speach_data.ssv\n",
      "input data x has shape:  (990, 10)\n",
      "output data y has shape:  (990, 11)\n",
      "\n"
     ]
    }
   ],
   "source": [
    "print(f[0])\n",
    "\n",
    "temp = np.loadtxt(path1+f[0])\n",
    "data = {}\n",
    "\n",
    "data['x'] = np.copy(temp)[:,3:-1]\n",
    "data['y_int'] = np.copy(temp)[:,-1]\n",
    "y = np.zeros((temp.shape[0], 11))\n",
    "for jj in range(temp.shape[0]):\n",
    "    y[jj, int(temp[jj,-1])] += 1\n",
    "data['y'] = np.copy(y)\n",
    "del y\n",
    "\n",
    "print('input data x has shape: ',  data['x'].shape)\n",
    "print('output data y has shape: ', data['y'].shape)\n",
    "print()\n",
    "\n",
    "if 0:\n",
    "    jj = 6\n",
    "    print(data['x'][jj,:])\n",
    "    print(data['y'][jj,:])\n",
    "    print(temp[jj,-1])"
   ]
  },
  {
   "cell_type": "code",
   "execution_count": 4,
   "metadata": {
    "collapsed": true
   },
   "outputs": [],
   "source": [
    "# normalize data in the range [0,1]\n",
    "for jj in range(data['x'].shape[1]):\n",
    "    data['x'][:,jj] = (data['x'][:,jj]-min(data['x'][:,jj]))/(max(data['x'][:,jj])+min(data['x'][:,jj]))"
   ]
  },
  {
   "cell_type": "code",
   "execution_count": 5,
   "metadata": {},
   "outputs": [
    {
     "name": "stdout",
     "output_type": "stream",
     "text": [
      "(528, 10)\n",
      "(528, 11)\n",
      "\n",
      "(462, 10)\n",
      "(462, 11)\n"
     ]
    }
   ],
   "source": [
    "# divide training and test sets\n",
    "train = {}\n",
    "test = {}\n",
    "\n",
    "# The problem is to train the network as well as possible using only\n",
    "# on data from \"speakers\" 0-47, and then to test the network on\n",
    "# speakers 48-89, reporting the number of correct classifications\n",
    "# in the test set.\n",
    "\n",
    "# setting '0'\n",
    "default    = [48*11, 42*11]\n",
    "# setting '1'\n",
    "\n",
    "setting = 0\n",
    "if setting == 0:\n",
    "    train['x'] = np.copy(data['x'][:default[0],:])\n",
    "    train['y'] = np.copy(data['y'][:default[0],:])\n",
    "    train['y_int'] = np.copy(data['y_int'][:default[0]])\n",
    "    \n",
    "    test['x']  = np.copy(data['x'][-default[1]:,:])\n",
    "    test['y']  = np.copy(data['y'][-default[1]:,:])\n",
    "    test['y_int']  = np.copy(data['y_int'][-default[1]:])\n",
    "#elif setting == 1:\n",
    "    \n",
    "print(train['x'].shape)\n",
    "print(train['y'].shape)\n",
    "print()\n",
    "print(test['x'].shape)\n",
    "print(test['y'].shape)"
   ]
  },
  {
   "cell_type": "code",
   "execution_count": 6,
   "metadata": {
    "collapsed": true
   },
   "outputs": [],
   "source": [
    "# create x & y torch Variables\n",
    "x = Variable( torch.from_numpy(train['x']).float() )\n",
    "y = Variable( torch.from_numpy(train['y']).float() )\n",
    "y_int = Variable( torch.from_numpy(train['y_int']).long() )\n",
    "# either input data is float or model becomes doublefloat\n",
    "# https://stackoverflow.com/questions/44717100/pytorch-convert-floattensor-into-doubletensor?rq=1\n",
    "# create \n",
    "x_test = Variable( torch.from_numpy(test['x']).float() )\n",
    "y_test = Variable( torch.from_numpy(test['y']).float() )\n",
    "y_int_test = Variable( torch.from_numpy(test['y_int']).long() )"
   ]
  },
  {
   "cell_type": "code",
   "execution_count": 7,
   "metadata": {
    "collapsed": true
   },
   "outputs": [],
   "source": [
    "# define settings for plots\n",
    "def show_graph(string):\n",
    "    fig = plt.figure(figsize=(3*6.4, 2*4.8)) # default = 6.4, 4.8\n",
    "    ax1 = fig.add_subplot(111)\n",
    "\n",
    "    error = []\n",
    "    valid = []\n",
    "    if string=='loglog':\n",
    "        for ii, ee in models.items():\n",
    "            error.append( ax1.loglog(ee[-2][:], label='%s, lr=%1.0e'%(ee[0][0],ee[5][0])) )\n",
    "            valid.append( ax1.loglog(ee[-1][:], ls='--', c=error[-1][0].get_color(), label='validation error') )\n",
    "    elif string=='logy':\n",
    "        for ii, ee in models.items():\n",
    "            error.append( ax1.semilogy(ee[-2][:], label='%s, lr=%1.0e'%(ee[0][0],ee[5][0])) )\n",
    "            valid.append( ax1.semilogy(ee[-1][:], ls='--', c=error[-1][0].get_color(), label='validation error') )\n",
    "    elif string=='logx':\n",
    "        for ii, ee in models.items():\n",
    "            error.append( ax1.semilogx(ee[-2][:], label='%s, lr=%1.0e'%(ee[0][0],ee[5][0])) )\n",
    "            valid.append( ax1.semilogx(ee[-1][:], ls='--', c=error[-1][0].get_color(), label='validation error') )\n",
    "    else:\n",
    "        for ii, ee in models.items():\n",
    "            error.append( ax1.plot(ee[-2][:], label='%s, lr=%1.0e'%(ee[0][0],ee[5][0])) )\n",
    "            valid.append( ax1.plot(ee[-1][:], ls='--', c=error[-1][0].get_color(), label='validation error') )\n",
    "\n",
    "    ax1.set_xlabel('iteration number', fontsize = 16)\n",
    "    ax1.set_ylabel('loss', fontsize = 16)\n",
    "    title_string = '%d epochs, hidden layers [%d, %d] are width and depth'%(epochs, H, n)\n",
    "    ax1.set_title(title_string, fontsize = 16)\n",
    "    legend = ax1.legend(loc='best', fontsize=16)\n",
    "\n",
    "    plt.show()\n",
    "    plt.close()\n",
    "\n",
    "# prints errors in semi-log axis\n",
    "show_type = 'logy'\n",
    "\n",
    "# some colors\n",
    "colors = (('xkcd:orange', 'xkcd:red'),#\n",
    "          ('xkcd:blue', 'xkcd:purple'),#\n",
    "          ('xkcd:green', 'xkcd:lime'),#\n",
    "         )"
   ]
  },
  {
   "cell_type": "code",
   "execution_count": 8,
   "metadata": {
    "collapsed": true
   },
   "outputs": [],
   "source": [
    "# define baseline network with relu (clamp)\n",
    "class Baseline(torch.nn.Module):\n",
    "    def __init__(self, D_in, H, D_out, n):\n",
    "        super(Baseline, self).__init__()\n",
    "        self.linear0 = torch.nn.Linear(D_in, H)\n",
    "        for jj in range(n):\n",
    "            exec(\"self.linear%d = torch.nn.Linear(H, H)\" %(jj+1) );\n",
    "        self.linearOut = torch.nn.Linear(H, D_out)\n",
    "\n",
    "    def forward(self, x, n, NL_out=False):\n",
    "        \n",
    "        h = []\n",
    "        # sum (linear1) and then relu (clamp)\n",
    "        h.append( self.linear0(x).clamp(min=0) )\n",
    "        # sum (linear2) and then relu (clamp)\n",
    "        for jj in range(n):\n",
    "            exec(\"h.append( self.linear%d(h[-1]).clamp(min=0) )\" %(jj+1) );\n",
    "        # sum (out) and the output\n",
    "        if not NL_out:\n",
    "            y_pred = self.linearOut(h[-1])\n",
    "        elif NL_out:\n",
    "            y_pred = self.linearOut(h[-1]).Softmax()\n",
    "        else:\n",
    "            raise ValueError('NL_out must be either True or False, but it isn\\'t')\n",
    "        \n",
    "        return y_pred # output = y_pred(icted)"
   ]
  },
  {
   "cell_type": "code",
   "execution_count": 9,
   "metadata": {
    "collapsed": true
   },
   "outputs": [],
   "source": [
    "# define different network with sigmoid\n",
    "class BaseSigmoid(torch.nn.Module):\n",
    "    def __init__(self, D_in, H, D_out, n):\n",
    "        super(BaseSigmoid, self).__init__()\n",
    "        self.linear0 = torch.nn.Linear(D_in, H)\n",
    "        for jj in range(n):\n",
    "            exec(\"self.linear%d = torch.nn.Linear(H, H)\" %(jj+1) );\n",
    "        self.linearOut = torch.nn.Linear(H, D_out)\n",
    "\n",
    "    def forward(self, x, n, NL_out=False):\n",
    "        h = []\n",
    "        # sum (linear1) and then sigmoid (F.sigmoid)\n",
    "        h.append( F.sigmoid(self.linear0(x)) )\n",
    "        # sum (linear2) and then sigmoid (F.sigmoid)\n",
    "        for jj in range(n):\n",
    "            exec(\"h.append( F.sigmoid(self.linear%d(h[-1]) ) )\" %(jj+1) );\n",
    "        # sum (out) and the output\n",
    "        if not NL_out :\n",
    "            y_pred = self.linearOut(h[-1])\n",
    "        elif NL_out :\n",
    "            y_pred = F.sigmoid( self.linearOut(h[-1]) )\n",
    "        else:\n",
    "            raise ValueError('NL_out must be either True or False, but it isn\\'t')\n",
    "        \n",
    "        return y_pred # output = y_pred(icted)"
   ]
  },
  {
   "cell_type": "code",
   "execution_count": 10,
   "metadata": {
    "collapsed": true
   },
   "outputs": [],
   "source": [
    "# define best fit class \n",
    "class BestFitSigmoid(torch.nn.Module):\n",
    "    def __init__(self, D_in, H, D_out, n):\n",
    "        super(BestFitSigmoid, self).__init__()\n",
    "        self.linear0 = torch.nn.Linear(D_in, H)\n",
    "        for jj in range(n):\n",
    "            exec(\"self.linear%d = torch.nn.Linear(H, H)\" %(jj+1) );\n",
    "        self.linearOut = torch.nn.Linear(H, D_out)\n",
    "\n",
    "    def forward(self, x, n, NL_out=False):\n",
    "        \n",
    "        # parameters\n",
    "        p = [ 689.651615, 0.433819208, 1.31042204, -0.975437185, -0.518489780, 0.403015568, 0.502495627]\n",
    "        \n",
    "        #p[0], p[1], p[2], p[3], p[4], p[5], p[6]\n",
    "        #  a,    b,    c,    d,    g,   x0,   x1)\n",
    "        #b*sigmoid(a*(arg-x0))+c*relu(arg)+d*relu(arg-x0)+g*relu(arg-x1)\n",
    "        \n",
    "        h = []\n",
    "        h.append( torch.mul( torch.sigmoid( self.linear0(x).add_(-p[5]).mul_(p[0]) ), p[1] ) )\n",
    "        h[0].add_( self.linear0(x).clamp(min=0).mul_(p[2]) )\n",
    "        h[0].add_( self.linear0(x).clamp(min=p[5]).mul_(p[3]) )\n",
    "        h[0].add_( self.linear0(x).clamp(min=p[6]).mul_(p[4]) )\n",
    "        \n",
    "        # sum (linear2) and then nonlinear function\n",
    "        for jj in range(n):\n",
    "            exec(\"h.append( torch.mul( torch.sigmoid( self.linear%d(h[-1]).add_(-p[5]).mul_(p[0]) ), p[1] ) )\" %(jj+1) );\n",
    "            exec(\"h[jj+1].add_( self.linear%d(h[-2]).clamp(min=0).mul_(p[2]) )\" %(jj+1) );\n",
    "            exec(\"h[jj+1].add_( self.linear%d(h[-2]).clamp(min=p[5]).mul_(p[3]) )\" %(jj+1) );\n",
    "            exec(\"h[jj+1].add_( self.linear%d(h[-2]).clamp(min=p[6]).mul_(p[4]) )\" %(jj+1) );\n",
    "                     \n",
    "        # sum (out) and the output\n",
    "        if not NL_out :\n",
    "            y_pred = self.linearOut(h[-1])\n",
    "        elif NL_out:\n",
    "            y_pred = torch.mul( torch.sigmoid( self.linearOut(h[-1]).add_(-p[5]).mul_(p[0]) ), p[1] )\n",
    "            y_pred.add_( self.linearOut(h[-1]).clamp(min=0).mul_(p[2]) )\n",
    "            y_pred.add_( self.linearOut(h[-1]).clamp(min=p[5]).mul_(p[3]) )\n",
    "            y_pred.add_( self.linearOut(h[-1]).clamp(min=p[6]).mul_(p[4]) )\n",
    "        else:\n",
    "            raise ValueError('NL_out must be either True or False, but it isn\\'t')\n",
    "                                \n",
    "        return y_pred # output = y_pred(icted)"
   ]
  },
  {
   "cell_type": "code",
   "execution_count": 11,
   "metadata": {
    "collapsed": true
   },
   "outputs": [],
   "source": [
    "def generate_entry(ii, verbose = False):\n",
    "    global models\n",
    "    global LL\n",
    "                     \n",
    "    models[ii] = [LL[ii][0],]\n",
    "    # append model\n",
    "    if LL[ii][1]=='base':\n",
    "        models[ii].append( Baseline(D_in, models[ii][0][1], D_out, models[ii][0][2]) )\n",
    "    elif LL[ii][1]=='sigmoid':\n",
    "        models[ii].append( BaseSigmoid(D_in, models[ii][0][1], D_out, models[ii][0][2]) )\n",
    "    elif LL[ii][1]=='bestfit':\n",
    "        models[ii].append( BestFitSigmoid(D_in, models[ii][0][1], D_out, models[ii][0][2]) )\n",
    "    else:\n",
    "        raise ValueError('model type not recognised')\n",
    "    if verbose:\n",
    "        print('model:', models[ii][1])\n",
    "        print('model settings:',D_in, D_out, models[ii][0][1], models[ii][0][2], models[ii][0][3])\n",
    "    \n",
    "    # append criterion\n",
    "    if LL[ii][2]=='MSE':\n",
    "        models[ii].append( torch.nn.MSELoss(size_average=LL[ii][3][0] ) )\n",
    "        models[ii].append( LL[ii][3] )\n",
    "    elif LL[ii][2]=='CEL':\n",
    "        models[ii].append( torch.nn.CrossEntropyLoss(size_average=LL[ii][3][0] ) )\n",
    "        models[ii].append( LL[ii][3] )\n",
    "    else:\n",
    "        raise ValueError('criterion type not recognised')\n",
    "        \n",
    "    if verbose:\n",
    "        print('criterion:', models[ii][2], '\\ncriterion settings:', models[ii][3])\n",
    "    \n",
    "    # append optimizer\n",
    "    if LL[ii][4]=='SGD':\n",
    "        models[ii].append( torch.optim.SGD(models[ii][1].parameters(), lr=LL[ii][5][0]) )\n",
    "        models[ii].append( LL[ii][5] )\n",
    "    #elif ll[4]=='':\n",
    "    else:\n",
    "        raise ValueError('optimizer type not recognised')\n",
    "    \n",
    "    if verbose:\n",
    "        print('optimizer:', models[ii][4], '\\noptimizer settings:\\n', models[ii][5])\n",
    "    \n",
    "    # append empty errors list\n",
    "    models[ii].append( [] )\n",
    "    models[ii].append( [] )\n",
    "    print()\n",
    "\n",
    "def run_training(ii):\n",
    "    global models\n",
    "    global x, y, x_test, y_test\n",
    "\n",
    "    print('epochs\\terror\\t\\tvalidation')\n",
    "    for t in range(models[ii][0][4]):\n",
    "        # Forward pass: Compute predicted y by passing x to the model\n",
    "        y_pred = models[ii][1](x, models[ii][0][2], models[ii][0][3])\n",
    "\n",
    "        if LL[ii][2]=='MSE':\n",
    "            # Compute and print loss\n",
    "            loss = models[ii][2](y_pred, y)\n",
    "            models[ii][-2].append(loss.data[0])\n",
    "        \n",
    "            if (t+1)%(epochs//20) == 0:\n",
    "                # validation test\n",
    "                y_pred_valid = models[ii][1](x_test, models[ii][0][2], models[ii][0][3])\n",
    "                loss_valid = models[ii][2](y_pred_valid, y_test)\n",
    "                models[ii][-1].append(loss.data[0])\n",
    "                \n",
    "                print(t+1, '\\t', loss.data[0], '\\t', loss_valid.data[0])\n",
    "                \n",
    "        elif LL[ii][2]=='CEL':\n",
    "            # Compute and print loss\n",
    "            loss = models[ii][2](y_pred, y_int)\n",
    "            models[ii][-2].append(loss.data[0])\n",
    "        \n",
    "            if (t+1)%(epochs//20) == 0:\n",
    "                # validation test\n",
    "                y_pred_valid = models[ii][1](x_test, models[ii][0][2], models[ii][0][3])\n",
    "                loss_valid = models[ii][2](y_pred_valid, y_int_test) #np.argmax( \n",
    "                models[ii][-1].append(loss.data[0])\n",
    "                \n",
    "                print(t+1, '\\t', loss.data[0], '\\t', loss_valid.data[0])\n",
    "\n",
    "        # Zero gradients, perform a backward pass, and update the weights.\n",
    "        models[ii][4].zero_grad()\n",
    "        loss.backward()\n",
    "        models[ii][4].step()\n",
    "\n",
    "def run_test(ii, verbose=True):\n",
    "    global models\n",
    "    global x_test, y_test\n",
    "                     \n",
    "    y_pred = models[ii][1](x_test, models[ii][0][2], models[ii][0][3])\n",
    "    \n",
    "    correctness = 0\n",
    "    for jj in range(x_test.shape[0]):\n",
    "        if y_test.data[jj, np.argmax(y_pred.data[jj,:]) ]:\n",
    "            correctness += 1\n",
    "    correctness = correctness/x_test.shape[0]*100\n",
    "    \n",
    "    if verbose:\n",
    "        print('%3.2f'%correctness)"
   ]
  },
  {
   "cell_type": "code",
   "execution_count": 12,
   "metadata": {
    "collapsed": true
   },
   "outputs": [],
   "source": [
    "# N is batch size; D_in is input dimension;\n",
    "# H is hidden dimension; D_out is output dimension.\n",
    "N     = train['x'].shape[0]\n",
    "D_in  = train['x'].shape[1]\n",
    "H     = 64\n",
    "D_out = train['y'].shape[1]\n",
    "n     = 1\n",
    "\n",
    "epochs = int(10e2)"
   ]
  },
  {
   "cell_type": "code",
   "execution_count": 13,
   "metadata": {
    "collapsed": true
   },
   "outputs": [],
   "source": [
    "##### model settings\n",
    "k = 5e2\n",
    "base_lr = 1e-4*k\n",
    "sigm_lr = 1e-6*k\n",
    "best_lr = 1e-5*k"
   ]
  },
  {
   "cell_type": "code",
   "execution_count": 14,
   "metadata": {},
   "outputs": [
    {
     "name": "stdout",
     "output_type": "stream",
     "text": [
      "12\n"
     ]
    }
   ],
   "source": [
    "# settings: '' name, H = width of hidden layers, n = number of hidden H-layers,\n",
    "#           NL_out = nonlinear output layer/sum-only output layer,\n",
    "#           'model'\n",
    "#           'criterion' and parameters\n",
    "#           'optimizer' and parameters\n",
    "LL = [[['relu baseline', H, 1, False, epochs],\n",
    "       'base',\n",
    "       'MSE', [True],\n",
    "       'SGD', [base_lr]\n",
    "      ],\n",
    "      [['base sigmoid', H, 1, False, epochs],\n",
    "       'sigmoid',\n",
    "       'MSE', [True],\n",
    "       'SGD', [sigm_lr]\n",
    "      ],\n",
    "      [['bestfit', H, 1, False, epochs],\n",
    "       'bestfit',\n",
    "       'MSE', [True],\n",
    "       'SGD', [best_lr]\n",
    "      ],\n",
    "      [['relu CEL baseline', H, 1, False, epochs],\n",
    "       'base',\n",
    "       'CEL', [True],\n",
    "       'SGD', [base_lr]\n",
    "      ],\n",
    "      [['base CEL sigmoid', H, 1, False, epochs],\n",
    "       'sigmoid',\n",
    "       'CEL', [True],\n",
    "       'SGD', [sigm_lr]\n",
    "      ],\n",
    "      [['Cel bestfit', H, 1, False, epochs],\n",
    "       'bestfit',\n",
    "       'CEL', [True],\n",
    "       'SGD', [best_lr]\n",
    "      ],\n",
    "      [['relu2 baseline', H, 2, False, epochs],\n",
    "       'base',\n",
    "       'MSE', [True],\n",
    "       'SGD', [base_lr]\n",
    "      ],\n",
    "      [['base2 sigmoid', H, 2, False, epochs],\n",
    "       'sigmoid',\n",
    "       'MSE', [True],\n",
    "       'SGD', [sigm_lr]\n",
    "      ],\n",
    "      [['bestfit2', H, 2, False, epochs],\n",
    "       'bestfit',\n",
    "       'MSE', [True],\n",
    "       'SGD', [best_lr]\n",
    "      ],\n",
    "      [['relu CEL baseline2', H, 2, False, epochs],\n",
    "       'base',\n",
    "       'CEL', [True],\n",
    "       'SGD', [base_lr]\n",
    "      ],\n",
    "      [['base CEL sigmoid2', H, 2, False, epochs],\n",
    "       'sigmoid',\n",
    "       'CEL', [True],\n",
    "       'SGD', [sigm_lr]\n",
    "      ],\n",
    "      [['Cel bestfit2', H, 2, False, epochs],\n",
    "       'bestfit',\n",
    "       'CEL', [True],\n",
    "       'SGD', [best_lr]\n",
    "      ],\n",
    "     ]\n",
    "print(len(LL))\n",
    "\n",
    "models = {}"
   ]
  },
  {
   "cell_type": "code",
   "execution_count": 15,
   "metadata": {},
   "outputs": [
    {
     "name": "stdout",
     "output_type": "stream",
     "text": [
      "model: Baseline(\n",
      "  (linear0): Linear(in_features=10, out_features=64)\n",
      "  (linear1): Linear(in_features=64, out_features=64)\n",
      "  (linearOut): Linear(in_features=64, out_features=11)\n",
      ")\n",
      "model settings: 10 11 64 1 False\n",
      "criterion: MSELoss(\n",
      ") \n",
      "criterion settings: [True]\n",
      "optimizer: <torch.optim.sgd.SGD object at 0x7ff05a6b6588> \n",
      "optimizer settings:\n",
      " [0.05]\n",
      "\n",
      "epochs\terror\t\tvalidation\n",
      "50 \t 0.0788329467177391 \t 0.08258912712335587\n",
      "100 \t 0.07606469839811325 \t 0.08098110556602478\n",
      "150 \t 0.07450424879789352 \t 0.08036776632070541\n",
      "200 \t 0.07337924093008041 \t 0.08003849536180496\n",
      "250 \t 0.07246287912130356 \t 0.07973392307758331\n",
      "300 \t 0.07163048535585403 \t 0.07941882312297821\n",
      "350 \t 0.07084082812070847 \t 0.07921252399682999\n",
      "400 \t 0.07010692358016968 \t 0.07900343090295792\n",
      "450 \t 0.06942302733659744 \t 0.07881030440330505\n",
      "500 \t 0.068779356777668 \t 0.0786455050110817\n",
      "550 \t 0.06816563755273819 \t 0.0784861221909523\n",
      "600 \t 0.06757953017950058 \t 0.07835321128368378\n",
      "650 \t 0.06701300293207169 \t 0.07824403047561646\n",
      "700 \t 0.06646756082773209 \t 0.0781501904129982\n",
      "750 \t 0.06593701243400574 \t 0.07806369662284851\n",
      "800 \t 0.06542623788118362 \t 0.07796970754861832\n",
      "850 \t 0.06492406874895096 \t 0.07789053022861481\n",
      "900 \t 0.06441935896873474 \t 0.07780535519123077\n",
      "950 \t 0.06393813341856003 \t 0.07773726433515549\n",
      "1000 \t 0.06347450613975525 \t 0.07766988128423691\n",
      "25.76\n"
     ]
    }
   ],
   "source": [
    "generate_entry(0, True)\n",
    "run_training(0)\n",
    "#show_graph(show_type)\n",
    "run_test(0)"
   ]
  },
  {
   "cell_type": "code",
   "execution_count": 16,
   "metadata": {},
   "outputs": [
    {
     "name": "stdout",
     "output_type": "stream",
     "text": [
      "model: BaseSigmoid(\n",
      "  (linear0): Linear(in_features=10, out_features=64)\n",
      "  (linear1): Linear(in_features=64, out_features=64)\n",
      "  (linearOut): Linear(in_features=64, out_features=11)\n",
      ")\n",
      "model settings: 10 11 64 1 False\n",
      "criterion: MSELoss(\n",
      ") \n",
      "criterion settings: [True]\n",
      "optimizer: <torch.optim.sgd.SGD object at 0x7ff05a6b6a90> \n",
      "optimizer settings:\n",
      " [0.0005]\n",
      "\n",
      "epochs\terror\t\tvalidation\n",
      "50 \t 0.1748177707195282 \t 0.17534221708774567\n",
      "100 \t 0.16072237491607666 \t 0.16118869185447693\n",
      "150 \t 0.14879192411899567 \t 0.14920452237129211\n",
      "200 \t 0.13869021832942963 \t 0.13905426859855652\n",
      "250 \t 0.1301342248916626 \t 0.1304537057876587\n",
      "300 \t 0.12288635224103928 \t 0.12316490709781647\n",
      "350 \t 0.11674489080905914 \t 0.11698564887046814\n",
      "400 \t 0.11154008656740189 \t 0.11174646019935608\n",
      "450 \t 0.1071283146739006 \t 0.10730337351560593\n",
      "500 \t 0.1033884808421135 \t 0.10353456437587738\n",
      "550 \t 0.1002177894115448 \t 0.10033747553825378\n",
      "600 \t 0.09752936661243439 \t 0.09762495756149292\n",
      "650 \t 0.09524979442358017 \t 0.0953230932354927\n",
      "700 \t 0.09331700205802917 \t 0.09336945414543152\n",
      "750 \t 0.09167756140232086 \t 0.09171146154403687\n",
      "800 \t 0.09028735011816025 \t 0.09030375629663467\n",
      "850 \t 0.08910810202360153 \t 0.08910884708166122\n",
      "900 \t 0.08810804784297943 \t 0.08809450268745422\n",
      "950 \t 0.08725982904434204 \t 0.08723291754722595\n",
      "1000 \t 0.08654053509235382 \t 0.08650112897157669\n",
      "9.52\n"
     ]
    }
   ],
   "source": [
    "generate_entry(1, True)\n",
    "run_training(1)\n",
    "#show_graph(show_type)\n",
    "run_test(1)"
   ]
  },
  {
   "cell_type": "code",
   "execution_count": 17,
   "metadata": {},
   "outputs": [
    {
     "name": "stdout",
     "output_type": "stream",
     "text": [
      "model: BestFitSigmoid(\n",
      "  (linear0): Linear(in_features=10, out_features=64)\n",
      "  (linear1): Linear(in_features=64, out_features=64)\n",
      "  (linearOut): Linear(in_features=64, out_features=11)\n",
      ")\n",
      "model settings: 10 11 64 1 False\n",
      "criterion: MSELoss(\n",
      ") \n",
      "criterion settings: [True]\n",
      "optimizer: <torch.optim.sgd.SGD object at 0x7ff05a6b6860> \n",
      "optimizer settings:\n",
      " [0.005]\n",
      "\n",
      "epochs\terror\t\tvalidation\n",
      "50 \t 0.10552364587783813 \t 0.10407410562038422\n",
      "100 \t 0.09209729731082916 \t 0.09075900912284851\n",
      "150 \t 0.08958316594362259 \t 0.08862538635730743\n",
      "200 \t 0.08868959546089172 \t 0.08797336369752884\n",
      "250 \t 0.08799739927053452 \t 0.08760997653007507\n",
      "300 \t 0.08726722747087479 \t 0.087273508310318\n",
      "350 \t 0.0868014395236969 \t 0.08703386038541794\n",
      "400 \t 0.08625876158475876 \t 0.08669880777597427\n",
      "450 \t 0.08581957966089249 \t 0.08642252534627914\n",
      "500 \t 0.0854182317852974 \t 0.0861688107252121\n",
      "550 \t 0.08500165492296219 \t 0.08594093471765518\n"
     ]
    },
    {
     "ename": "KeyboardInterrupt",
     "evalue": "",
     "output_type": "error",
     "traceback": [
      "\u001b[0;31m---------------------------------------------------------------------------\u001b[0m",
      "\u001b[0;31mKeyboardInterrupt\u001b[0m                         Traceback (most recent call last)",
      "\u001b[0;32m<ipython-input-17-40481305efc2>\u001b[0m in \u001b[0;36m<module>\u001b[0;34m()\u001b[0m\n\u001b[1;32m      1\u001b[0m \u001b[0mgenerate_entry\u001b[0m\u001b[0;34m(\u001b[0m\u001b[0;36m2\u001b[0m\u001b[0;34m,\u001b[0m \u001b[0;32mTrue\u001b[0m\u001b[0;34m)\u001b[0m\u001b[0;34m\u001b[0m\u001b[0m\n\u001b[0;32m----> 2\u001b[0;31m \u001b[0mrun_training\u001b[0m\u001b[0;34m(\u001b[0m\u001b[0;36m2\u001b[0m\u001b[0;34m)\u001b[0m\u001b[0;34m\u001b[0m\u001b[0m\n\u001b[0m\u001b[1;32m      3\u001b[0m \u001b[0mshow_graph\u001b[0m\u001b[0;34m(\u001b[0m\u001b[0mshow_type\u001b[0m\u001b[0;34m)\u001b[0m\u001b[0;34m\u001b[0m\u001b[0m\n\u001b[1;32m      4\u001b[0m \u001b[0mrun_test\u001b[0m\u001b[0;34m(\u001b[0m\u001b[0;36m2\u001b[0m\u001b[0;34m)\u001b[0m\u001b[0;34m\u001b[0m\u001b[0m\n",
      "\u001b[0;32m<ipython-input-11-d4958a3f66f1>\u001b[0m in \u001b[0;36mrun_training\u001b[0;34m(ii)\u001b[0m\n\u001b[1;32m     53\u001b[0m     \u001b[0;32mfor\u001b[0m \u001b[0mt\u001b[0m \u001b[0;32min\u001b[0m \u001b[0mrange\u001b[0m\u001b[0;34m(\u001b[0m\u001b[0mmodels\u001b[0m\u001b[0;34m[\u001b[0m\u001b[0mii\u001b[0m\u001b[0;34m]\u001b[0m\u001b[0;34m[\u001b[0m\u001b[0;36m0\u001b[0m\u001b[0;34m]\u001b[0m\u001b[0;34m[\u001b[0m\u001b[0;36m4\u001b[0m\u001b[0;34m]\u001b[0m\u001b[0;34m)\u001b[0m\u001b[0;34m:\u001b[0m\u001b[0;34m\u001b[0m\u001b[0m\n\u001b[1;32m     54\u001b[0m         \u001b[0;31m# Forward pass: Compute predicted y by passing x to the model\u001b[0m\u001b[0;34m\u001b[0m\u001b[0;34m\u001b[0m\u001b[0m\n\u001b[0;32m---> 55\u001b[0;31m         \u001b[0my_pred\u001b[0m \u001b[0;34m=\u001b[0m \u001b[0mmodels\u001b[0m\u001b[0;34m[\u001b[0m\u001b[0mii\u001b[0m\u001b[0;34m]\u001b[0m\u001b[0;34m[\u001b[0m\u001b[0;36m1\u001b[0m\u001b[0;34m]\u001b[0m\u001b[0;34m(\u001b[0m\u001b[0mx\u001b[0m\u001b[0;34m,\u001b[0m \u001b[0mmodels\u001b[0m\u001b[0;34m[\u001b[0m\u001b[0mii\u001b[0m\u001b[0;34m]\u001b[0m\u001b[0;34m[\u001b[0m\u001b[0;36m0\u001b[0m\u001b[0;34m]\u001b[0m\u001b[0;34m[\u001b[0m\u001b[0;36m2\u001b[0m\u001b[0;34m]\u001b[0m\u001b[0;34m,\u001b[0m \u001b[0mmodels\u001b[0m\u001b[0;34m[\u001b[0m\u001b[0mii\u001b[0m\u001b[0;34m]\u001b[0m\u001b[0;34m[\u001b[0m\u001b[0;36m0\u001b[0m\u001b[0;34m]\u001b[0m\u001b[0;34m[\u001b[0m\u001b[0;36m3\u001b[0m\u001b[0;34m]\u001b[0m\u001b[0;34m)\u001b[0m\u001b[0;34m\u001b[0m\u001b[0m\n\u001b[0m\u001b[1;32m     56\u001b[0m \u001b[0;34m\u001b[0m\u001b[0m\n\u001b[1;32m     57\u001b[0m         \u001b[0;32mif\u001b[0m \u001b[0mLL\u001b[0m\u001b[0;34m[\u001b[0m\u001b[0mii\u001b[0m\u001b[0;34m]\u001b[0m\u001b[0;34m[\u001b[0m\u001b[0;36m2\u001b[0m\u001b[0;34m]\u001b[0m\u001b[0;34m==\u001b[0m\u001b[0;34m'MSE'\u001b[0m\u001b[0;34m:\u001b[0m\u001b[0;34m\u001b[0m\u001b[0m\n",
      "\u001b[0;32m/usr/local/lib/python3.5/dist-packages/torch/nn/modules/module.py\u001b[0m in \u001b[0;36m__call__\u001b[0;34m(self, *input, **kwargs)\u001b[0m\n\u001b[1;32m    323\u001b[0m         \u001b[0;32mfor\u001b[0m \u001b[0mhook\u001b[0m \u001b[0;32min\u001b[0m \u001b[0mself\u001b[0m\u001b[0;34m.\u001b[0m\u001b[0m_forward_pre_hooks\u001b[0m\u001b[0;34m.\u001b[0m\u001b[0mvalues\u001b[0m\u001b[0;34m(\u001b[0m\u001b[0;34m)\u001b[0m\u001b[0;34m:\u001b[0m\u001b[0;34m\u001b[0m\u001b[0m\n\u001b[1;32m    324\u001b[0m             \u001b[0mhook\u001b[0m\u001b[0;34m(\u001b[0m\u001b[0mself\u001b[0m\u001b[0;34m,\u001b[0m \u001b[0minput\u001b[0m\u001b[0;34m)\u001b[0m\u001b[0;34m\u001b[0m\u001b[0m\n\u001b[0;32m--> 325\u001b[0;31m         \u001b[0mresult\u001b[0m \u001b[0;34m=\u001b[0m \u001b[0mself\u001b[0m\u001b[0;34m.\u001b[0m\u001b[0mforward\u001b[0m\u001b[0;34m(\u001b[0m\u001b[0;34m*\u001b[0m\u001b[0minput\u001b[0m\u001b[0;34m,\u001b[0m \u001b[0;34m**\u001b[0m\u001b[0mkwargs\u001b[0m\u001b[0;34m)\u001b[0m\u001b[0;34m\u001b[0m\u001b[0m\n\u001b[0m\u001b[1;32m    326\u001b[0m         \u001b[0;32mfor\u001b[0m \u001b[0mhook\u001b[0m \u001b[0;32min\u001b[0m \u001b[0mself\u001b[0m\u001b[0;34m.\u001b[0m\u001b[0m_forward_hooks\u001b[0m\u001b[0;34m.\u001b[0m\u001b[0mvalues\u001b[0m\u001b[0;34m(\u001b[0m\u001b[0;34m)\u001b[0m\u001b[0;34m:\u001b[0m\u001b[0;34m\u001b[0m\u001b[0m\n\u001b[1;32m    327\u001b[0m             \u001b[0mhook_result\u001b[0m \u001b[0;34m=\u001b[0m \u001b[0mhook\u001b[0m\u001b[0;34m(\u001b[0m\u001b[0mself\u001b[0m\u001b[0;34m,\u001b[0m \u001b[0minput\u001b[0m\u001b[0;34m,\u001b[0m \u001b[0mresult\u001b[0m\u001b[0;34m)\u001b[0m\u001b[0;34m\u001b[0m\u001b[0m\n",
      "\u001b[0;32m<ipython-input-10-074b4a0fbfe1>\u001b[0m in \u001b[0;36mforward\u001b[0;34m(self, x, n, NL_out)\u001b[0m\n\u001b[1;32m     25\u001b[0m         \u001b[0;31m# sum (linear2) and then nonlinear function\u001b[0m\u001b[0;34m\u001b[0m\u001b[0;34m\u001b[0m\u001b[0m\n\u001b[1;32m     26\u001b[0m         \u001b[0;32mfor\u001b[0m \u001b[0mjj\u001b[0m \u001b[0;32min\u001b[0m \u001b[0mrange\u001b[0m\u001b[0;34m(\u001b[0m\u001b[0mn\u001b[0m\u001b[0;34m)\u001b[0m\u001b[0;34m:\u001b[0m\u001b[0;34m\u001b[0m\u001b[0m\n\u001b[0;32m---> 27\u001b[0;31m             \u001b[0mexec\u001b[0m\u001b[0;34m(\u001b[0m\u001b[0;34m\"h.append( torch.mul( torch.sigmoid( self.linear%d(h[-1]).add_(-p[5]).mul_(p[0]) ), p[1] ) )\"\u001b[0m \u001b[0;34m%\u001b[0m\u001b[0;34m(\u001b[0m\u001b[0mjj\u001b[0m\u001b[0;34m+\u001b[0m\u001b[0;36m1\u001b[0m\u001b[0;34m)\u001b[0m \u001b[0;34m)\u001b[0m\u001b[0;34m;\u001b[0m\u001b[0;34m\u001b[0m\u001b[0m\n\u001b[0m\u001b[1;32m     28\u001b[0m             \u001b[0mexec\u001b[0m\u001b[0;34m(\u001b[0m\u001b[0;34m\"h[jj+1].add_( self.linear%d(h[-2]).clamp(min=0).mul_(p[2]) )\"\u001b[0m \u001b[0;34m%\u001b[0m\u001b[0;34m(\u001b[0m\u001b[0mjj\u001b[0m\u001b[0;34m+\u001b[0m\u001b[0;36m1\u001b[0m\u001b[0;34m)\u001b[0m \u001b[0;34m)\u001b[0m\u001b[0;34m;\u001b[0m\u001b[0;34m\u001b[0m\u001b[0m\n\u001b[1;32m     29\u001b[0m             \u001b[0mexec\u001b[0m\u001b[0;34m(\u001b[0m\u001b[0;34m\"h[jj+1].add_( self.linear%d(h[-2]).clamp(min=p[5]).mul_(p[3]) )\"\u001b[0m \u001b[0;34m%\u001b[0m\u001b[0;34m(\u001b[0m\u001b[0mjj\u001b[0m\u001b[0;34m+\u001b[0m\u001b[0;36m1\u001b[0m\u001b[0;34m)\u001b[0m \u001b[0;34m)\u001b[0m\u001b[0;34m;\u001b[0m\u001b[0;34m\u001b[0m\u001b[0m\n",
      "\u001b[0;32m<string>\u001b[0m in \u001b[0;36m<module>\u001b[0;34m()\u001b[0m\n",
      "\u001b[0;31mKeyboardInterrupt\u001b[0m: "
     ]
    }
   ],
   "source": [
    "generate_entry(2, True)\n",
    "run_training(2)\n",
    "show_graph(show_type)\n",
    "run_test(2)"
   ]
  },
  {
   "cell_type": "code",
   "execution_count": null,
   "metadata": {},
   "outputs": [],
   "source": [
    "generate_entry(3, True)\n",
    "run_training(3)\n",
    "#show_graph(show_type)\n",
    "run_test(3)"
   ]
  },
  {
   "cell_type": "code",
   "execution_count": null,
   "metadata": {},
   "outputs": [],
   "source": [
    "generate_entry(4, True)\n",
    "run_training(4)\n",
    "#show_graph(show_type)\n",
    "run_test(4)"
   ]
  },
  {
   "cell_type": "code",
   "execution_count": null,
   "metadata": {},
   "outputs": [],
   "source": [
    "generate_entry(5, True)\n",
    "run_training(5)\n",
    "#show_graph(show_type)\n",
    "run_test(5)"
   ]
  },
  {
   "cell_type": "code",
   "execution_count": null,
   "metadata": {},
   "outputs": [],
   "source": [
    "generate_entry(6, True)\n",
    "run_training(6)\n",
    "run_test(6)"
   ]
  },
  {
   "cell_type": "code",
   "execution_count": null,
   "metadata": {},
   "outputs": [],
   "source": [
    "generate_entry(7, True)\n",
    "run_training(7)\n",
    "run_test(7)"
   ]
  },
  {
   "cell_type": "code",
   "execution_count": null,
   "metadata": {},
   "outputs": [],
   "source": [
    "generate_entry(8, True)\n",
    "run_training(8)\n",
    "run_test(8)"
   ]
  },
  {
   "cell_type": "code",
   "execution_count": null,
   "metadata": {},
   "outputs": [],
   "source": [
    "generate_entry(9, True)\n",
    "run_training(9)\n",
    "run_test(9)"
   ]
  },
  {
   "cell_type": "code",
   "execution_count": null,
   "metadata": {},
   "outputs": [],
   "source": [
    "generate_entry(10, True)\n",
    "run_training(10)\n",
    "run_test(10)"
   ]
  },
  {
   "cell_type": "code",
   "execution_count": null,
   "metadata": {},
   "outputs": [],
   "source": [
    "generate_entry(11, True)\n",
    "run_training(11)\n",
    "run_test(11)"
   ]
  },
  {
   "cell_type": "code",
   "execution_count": null,
   "metadata": {},
   "outputs": [],
   "source": [
    "show_graph(show_type)"
   ]
  },
  {
   "cell_type": "code",
   "execution_count": null,
   "metadata": {
    "collapsed": true
   },
   "outputs": [],
   "source": []
  }
 ],
 "metadata": {
  "kernelspec": {
   "display_name": "Python 3",
   "language": "python",
   "name": "python3"
  },
  "language_info": {
   "codemirror_mode": {
    "name": "ipython",
    "version": 3
   },
   "file_extension": ".py",
   "mimetype": "text/x-python",
   "name": "python",
   "nbconvert_exporter": "python",
   "pygments_lexer": "ipython3",
   "version": "3.5.3"
  }
 },
 "nbformat": 4,
 "nbformat_minor": 2
}
