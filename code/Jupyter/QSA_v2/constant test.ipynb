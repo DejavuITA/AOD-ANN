{
 "cells": [
  {
   "cell_type": "code",
   "execution_count": 1,
   "metadata": {
    "collapsed": true
   },
   "outputs": [],
   "source": [
    "# plotting libraries\n",
    "import matplotlib\n",
    "import matplotlib.pyplot as plt\n",
    "import matplotlib.gridspec as gridspec\n",
    "\n",
    "#from matplotlib2tikz import save as tikz_save\n",
    "# numpy (math) libary\n",
    "import numpy as np"
   ]
  },
  {
   "cell_type": "code",
   "execution_count": 2,
   "metadata": {},
   "outputs": [],
   "source": [
    "### import PARAMETERS and CONSTANTS\n",
    "from modules.ConstantsAndParameters import *\n",
    "\n",
    "### import UTILITY functions\n",
    "from modules.utils import *"
   ]
  },
  {
   "cell_type": "code",
   "execution_count": 3,
   "metadata": {},
   "outputs": [
    {
     "name": "stdout",
     "output_type": "stream",
     "text": [
      "CONSTANTS and PARAMETERS\n",
      "\n",
      "general physics constants\n",
      "ε0\t= 8.85418782e-12 [F/m] \tvacuum permittivity\n",
      "c0\t= 299792458 [m/s] \tspeed of light in vacuum\n",
      "ħ\t= 1.05457180e-34 [J*s] \tPlanck constant\n",
      "\n",
      "geometrical parameters\n",
      "R\t= 4.50e-06 [m ] \tradius\n",
      "w\t= 5.00e-07 [m ] \twidth\n",
      "h\t= 2.00e-07 [m ] \theight\n",
      "wga\t= 1.00e-13 [m²] \tcore area\n",
      "\n",
      "L\t= 2.8274e-05 [m ] \tcore length\n",
      "V\t= 2.8274e-18 [m³] \tcore volume\n",
      "\n",
      "EM field parameters\n",
      "λ0\t= 1.5500e-06 [m] \tstandard wavelength\n",
      "ω0\t= 1.9341e+14 [Hz] \tstandard frequency\n",
      "\n",
      "Silicon physical parameters\n",
      "ρSi\t= 2.3290e+03 [kg/m³] \tSilicon density\n",
      "Cp\t= 7.00e+02 [J/kg/K] \tSilicon specific heat at constant pressure\n",
      "MCpV\t= 1.630e+06 [J/K/m³] \tMring*Cp\n",
      "\n",
      "𝛾TH\t= 3.000e+08 [Hz] \tphenomenological heat loss rate\n",
      "𝛾FC\t= 1.200e+07 [Hz] \tphenomenological free carrier population loss rate\n",
      "\n",
      "nSi\t= 3.480 [1] \t\tSilicon refractive index\n",
      "n0\t= 3.480 [1] \t\tdefault system refractive index\n",
      "n2\t= 4.500e-18 [m²/W] \tSilicon intensity dependent refractive index\n",
      "dndT\t= 1.860e-04 [1/K] \tSilicon refractive index expansion term in temperature\n",
      "dndN\t= -4.200e-27 [m³] \tSilicon refractive index real expansion term in free carrier population\n",
      "dαdN\t= 1.450e-15 [m²] \tSilicon refractive index imaginary expansion term in free carrier population\n",
      "βtpa\t= 7.900e-12 [m/W] \tSilicon TPA coefficient\n",
      "\n",
      "Coupling parameters\n",
      "ĸ\t= 0.10 [1] \t\tfirst coupling constant\n",
      "𝛾\t= 0.90 [1] \t\thalf round-trip power loss factor\n"
     ]
    }
   ],
   "source": [
    "print_const()"
   ]
  },
  {
   "cell_type": "code",
   "execution_count": 4,
   "metadata": {},
   "outputs": [
    {
     "name": "stdout",
     "output_type": "stream",
     "text": [
      "CONSTANTS and PARAMETERS\n",
      "\n",
      "general physics constants* (*not-normalized)\n",
      "ñc0\t= 0.299792458 [µm*PHz] \tspeed of light in vacuum ([µm/fs])\n",
      "ñħ\t= 0.10545718 [mW/PHz²] \tPlanck constant\n",
      "\n",
      "geometrical parameters\n",
      "R\t= 4.50000 [µm ] \tradius\n",
      "w\t= 0.50000 [µm ] \twidth\n",
      "h\t= 0.20000 [µm ] \theight\n",
      "wga\t= 0.10000 [µm²] \tcore area\n",
      "\n",
      "L\t= 28.27433 [µm ] \tcore length\n",
      "V\t= 2.82743 [µm³] \tcore volume\n",
      "\n",
      "EM field parameters\n",
      "λ0\t= 1.55000 [µm] \t\tresonance wavelength\n",
      "ω0\t= 0.19341 [PHz] \t\tresonance frequency\n",
      "\n",
      "Silicon physical parameters\n",
      "MCpV\t= 1.630e+06 [mW/PHz/K/µm³] \tMring*Cp/V\n",
      "\n",
      "𝛾TH\t= 3.000e-07 [PHz] \tphenomenological heat loss rate\n",
      "𝛾FC\t= 1.200e-08 [PHz] \tphenomenological free carrier population loss rate\n",
      "\n",
      "nSi\t= 3.480 [1] \t\tSilicon refractive index\n",
      "n0\t= 3.480 [1] \t\tdefault system refractive index\n",
      "n2\t= 4.500e-09 [µm²/mW] \tSilicon intensity dependent refractive index\n",
      "dndT\t= 1.860e-04 [1/K] \tSilicon refractive index expansion term in temperature\n",
      "dndN\t= -4.200e-09 [µm³] \tSilicon refractive index real expansion term in free carrier population\n",
      "dαdN\t= 1.450e-03 [µm²] \tSilicon refractive index imaginary expansion term in free carrier population\n",
      "βtpa\t= 7.900e-09 [µm/mW] \tSilicon TPA coefficient\n",
      "\n",
      "Coupling parameters\n",
      "ĸ\t= 0.10 [1] \t\tfirst coupling constant\n",
      "𝛾\t= 0.90 [1] \t\thalf round-trip power loss factor\n"
     ]
    }
   ],
   "source": [
    "print_const(normalized = True)"
   ]
  }
 ],
 "metadata": {
  "kernelspec": {
   "display_name": "Python 3",
   "language": "python",
   "name": "python3"
  },
  "language_info": {
   "codemirror_mode": {
    "name": "ipython",
    "version": 3
   },
   "file_extension": ".py",
   "mimetype": "text/x-python",
   "name": "python",
   "nbconvert_exporter": "python",
   "pygments_lexer": "ipython3",
   "version": "3.5.3"
  }
 },
 "nbformat": 4,
 "nbformat_minor": 2
}
