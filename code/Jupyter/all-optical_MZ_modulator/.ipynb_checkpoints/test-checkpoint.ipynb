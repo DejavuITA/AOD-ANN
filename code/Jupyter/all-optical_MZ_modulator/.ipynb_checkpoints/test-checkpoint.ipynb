{
 "cells": [
  {
   "cell_type": "code",
   "execution_count": 1,
   "metadata": {
    "collapsed": true
   },
   "outputs": [],
   "source": [
    "# plotting libraries\n",
    "import matplotlib\n",
    "import matplotlib.pyplot as plt \n",
    "# numpy (math) libary\n",
    "import numpy as np "
   ]
  },
  {
   "cell_type": "code",
   "execution_count": 2,
   "metadata": {
    "collapsed": true
   },
   "outputs": [],
   "source": [
    "# Constants\n",
    "n0 = 3.48 # standard refractive index\n",
    "n2 = 5e-14 # [cm²/W] intensity-dependent refractive index\n",
    "e0 = 8.85418782e-12 # vacuum permittivity epsilon_0\n",
    "c0 = 299792458 # speed of light in vacuum c_0"
   ]
  },
  {
   "cell_type": "code",
   "execution_count": 3,
   "metadata": {
    "collapsed": true
   },
   "outputs": [],
   "source": [
    "# Parameters\n",
    "t = 0.1 # transmission factor, ideally 0.0\n",
    "B = 0.95 # half-ring loss factor, ideally 1.0. B=0.95 is obtained for a R=10e-6 with losses of 10dB/µm\n",
    "R = 10e-6 # radius of curvature\n",
    "s = (1-t**2)**0.5"
   ]
  },
  {
   "cell_type": "code",
   "execution_count": 4,
   "metadata": {
    "collapsed": true
   },
   "outputs": [],
   "source": [
    "# intensity of beam, given field amplitude\n",
    "def Iw(Ew):\n",
    "    return 0.5*e0*n0*c0*Ew**2\n",
    "\n",
    "# total refractive index\n",
    "# ---> CHANGE this with propagation index of waveguide,\n",
    "#      aka the effective refractive index of the waveguide/ring n_eff\n",
    "def n(freq, Ew):\n",
    "    return n0+n2*Iw(Ew)+0*freq\n",
    "\n",
    "# define transmission factor and half-ring loss factor as\n",
    "# dependent of frequency and field amplitude\n",
    "def tf(f, Ew):\n",
    "    return t\n",
    "\n",
    "def Bf(f, Ew):\n",
    "    return B"
   ]
  },
  {
   "cell_type": "code",
   "execution_count": 5,
   "metadata": {
    "collapsed": true
   },
   "outputs": [],
   "source": [
    "# argument of the complex exponential\n",
    "def psi(freq, Ew):\n",
    "    return ( 2*np.pi*R ) * ( 2*np.pi/c0*freq )* n(freq, Ew)\n",
    "\n",
    "# transmittivity\n",
    "def tau(f, Ew):\n",
    "    return -(1-t**2) * B * np.exp( 1J * psi(f, Ew) / 2 ) / (1 - t**2 * B * np.exp( 1J * psi(f, Ew) ) )\n",
    "\n",
    "def normE(f, Ew):\n",
    "    print(\"asd\")\n",
    "    \n",
    "def phase(f, Ew):\n",
    "    return np.angle(tau(f, Ew))"
   ]
  },
  {
   "cell_type": "code",
   "execution_count": 6,
   "metadata": {},
   "outputs": [
    {
     "data": {
      "image/png": "[encoded data removed]",
      "text/plain": [
       "<matplotlib.figure.Figure at 0x7f1c51dea7f0>"
      ]
     },
     "metadata": {},
     "output_type": "display_data"
    },
    {
     "data": {
      "image/png": "[encoded data removed]",
      "text/plain": [
       "<matplotlib.figure.Figure at 0x7f1c51b5d780>"
      ]
     },
     "metadata": {},
     "output_type": "display_data"
    }
   ],
   "source": [
    "# frequency study\n",
    "x = np.linspace((1-3*0.006451613)*200e12,(1+3*0.006451613)*200e12,200)\n",
    "\n",
    "# magnitude\n",
    "y = np.abs(tau(x,0))\n",
    "plt.plot(x, y, 'rx')\n",
    "plt.show()\n",
    "\n",
    "# phase\n",
    "y2 = np.angle(tau(x,0))\n",
    "plt.plot(x, y2, 'b+')\n",
    "plt.show()"
   ]
  },
  {
   "cell_type": "code",
   "execution_count": 7,
   "metadata": {},
   "outputs": [
    {
     "name": "stdout",
     "output_type": "stream",
     "text": [
      "9442942.54299\n"
     ]
    }
   ],
   "source": [
    "IFA = 1.0e7 # input field amplitude\n",
    "IFI = np.square(IFA) # input field intensity\n",
    "\n",
    "A = [np.abs(tau(200e12,0.0)), ] # normalized output intensity\n",
    "P = [np.angle(tau(200e12,0.0)), ] # output phase\n",
    "D = [0.0, ] # un-normalized intensity inside the µ-ring resonator\n",
    "\n",
    "rounds = 14\n",
    "\n",
    "for ii in range(0, rounds):\n",
    "    A.append( np.abs(tau(200e12,D[ii])))\n",
    "    P.append( np.angle(tau(200e12,D[ii])) )\n",
    "    D.append( IFA * np.abs(tau(200e12,D[ii])/(1J*s)) )\n",
    "\n",
    "dA = np.diff(A)\n",
    "dP = np.diff(P)\n",
    "dD = np.diff(D)\n",
    "\n",
    "print(D[-1])"
   ]
  },
  {
   "cell_type": "code",
   "execution_count": 8,
   "metadata": {
    "collapsed": true
   },
   "outputs": [],
   "source": [
    "# plot value\n",
    "if False:\n",
    "#if True:\n",
    "    plt.plot(range(1,rounds+1),A[1:],'rx')\n",
    "    plt.show()\n",
    "\n",
    "    plt.plot(range(1,rounds+1),P[1:],'rx')\n",
    "    plt.show()\n",
    "\n",
    "    plt.plot(range(1,rounds+1),D[1:],'rx')\n",
    "    plt.show()"
   ]
  },
  {
   "cell_type": "code",
   "execution_count": 9,
   "metadata": {
    "collapsed": true
   },
   "outputs": [],
   "source": [
    "# plot variation\n",
    "if False:\n",
    "#if True:\n",
    "    plt.plot(range(1,rounds),dA[1:],'rx')\n",
    "    plt.show()\n",
    "\n",
    "    plt.plot(range(1,rounds),dP[1:],'rx')\n",
    "    plt.show()\n",
    "\n",
    "    plt.plot(range(1,rounds),dD[1:],'rx')\n",
    "    plt.show()"
   ]
  },
  {
   "cell_type": "code",
   "execution_count": 10,
   "metadata": {
    "collapsed": true
   },
   "outputs": [],
   "source": [
    "# transmittivity 2\n",
    "def tau2(f, Ew, m):\n",
    "    numerator = -(1-tf(f, Ew)**2) * Bf(f, Ew) * np.exp( 1J * psi(f, m*Ew) / 2 ) \n",
    "    denumerator = (1 - tf(f, Ew)**2 * Bf(f, Ew) * np.exp( 1J * psi(f, m*Ew) ) )\n",
    "    return numerator / denumerator"
   ]
  },
  {
   "cell_type": "code",
   "execution_count": 12,
   "metadata": {},
   "outputs": [],
   "source": [
    "m=1+1\n",
    "\n",
    "A2 = [np.abs(tau2(200e12, 0.0, m)), ] # normalized output intensity\n",
    "P2 = [np.angle(tau2(200e12, 0.0, m)), ] # output phase\n",
    "D2 = [0.0, ] # un-normalized intensity inside the µ-ring resonator\n",
    "\n",
    "rounds = 14\n",
    "\n",
    "for ii in range(0, rounds):\n",
    "    A2.append( np.abs(tau2(200e12,D2[ii], m)))\n",
    "    P2.append( np.angle(tau2(200e12,D2[ii], m)) )\n",
    "    D2.append( IFA*np.abs(tau2(200e12,D2[ii],2)/(1J*s)) )\n",
    "\n",
    "dA2 = np.diff(A2)\n",
    "dP2 = np.diff(P2)\n",
    "dD2 = np.diff(D2)"
   ]
  },
  {
   "cell_type": "code",
   "execution_count": 13,
   "metadata": {},
   "outputs": [
    {
     "data": {
      "image/png": "[encoded data removed]",
      "text/plain": [
       "<matplotlib.figure.Figure at 0x7f1189c208d0>"
      ]
     },
     "metadata": {},
     "output_type": "display_data"
    },
    {
     "data": {
      "image/png": "[encoded data removed]",
      "text/plain": [
       "<matplotlib.figure.Figure at 0x7f1189d26cf8>"
      ]
     },
     "metadata": {},
     "output_type": "display_data"
    },
    {
     "data": {
      "image/png": "[encoded data removed]",
      "text/plain": [
       "<matplotlib.figure.Figure at 0x7f1189b4fe10>"
      ]
     },
     "metadata": {},
     "output_type": "display_data"
    }
   ],
   "source": [
    "# plot value\n",
    "plt.plot(range(1,rounds+1),A2[1:],'rx')\n",
    "plt.show()\n",
    "     \n",
    "plt.plot(range(1,rounds+1),P2[1:],'rx')\n",
    "plt.show()\n",
    "     \n",
    "plt.plot(range(1,rounds+1),D2[1:],'rx')\n",
    "plt.show()"
   ]
  },
  {
   "cell_type": "code",
   "execution_count": 14,
   "metadata": {},
   "outputs": [
    {
     "data": {
      "image/png": "[encoded data removed]",
      "text/plain": [
       "<matplotlib.figure.Figure at 0x7f1189c20630>"
      ]
     },
     "metadata": {},
     "output_type": "display_data"
    }
   ],
   "source": [
    "plt.plot([0,1],[P[-1],P2[-1]])\n",
    "plt.show()"
   ]
  },
  {
   "cell_type": "code",
   "execution_count": null,
   "metadata": {
    "collapsed": true
   },
   "outputs": [],
   "source": [
    "def tau_m(f, m, error=1e-16):\n",
    "    Am = [np.abs(tau2(f, 0.0, m)), ] # normalized output intensity\n",
    "    Pm = [np.angle(tau2(f, 0.0, m)), ] # output phase\n",
    "    Dm = [0.0, ] # un-normalized intensity inside the µ-ring resonator\n",
    "\n",
    "    rounds = 4\n",
    "\n",
    "    for ii in range(0, rounds):\n",
    "        Am.append( np.abs(tau2(f, Dm[ii], m)))\n",
    "        Pm.append( np.angle(tau2(f, Dm[ii], m)) )\n",
    "        Dm.append( input_field_amplitude*np.abs(tau2(200e12,Dm[ii],m)/(1J*s)) )\n",
    "\n",
    "    while (Am[-1]-Am[-2]<=error && Pm[-1]-Pm[-2]<=error && Dm[-1]-Dm[-2]<=error)\n",
    "        Am.append( np.abs(tau2(f, Dm[ii], m)))\n",
    "        Pm.append( np.angle(tau2(f, Dm[ii], m)) )\n",
    "        Dm.append( input_field_amplitude*np.abs(tau2(f, Dm[ii], m)/(1J*s)) )\n",
    "\n",
    "    dAm = np.diff(Am)\n",
    "    dPm = np.diff(Pm)\n",
    "    dDm = np.diff(Dm)\n",
    "    \n",
    "    #print(Am[-1], Pm[-1], Dm[-1])\n",
    "    \n",
    "    return Am[-1], Pm[-1], Dm[-1]"
   ]
  },
  {
   "cell_type": "code",
   "execution_count": null,
   "metadata": {},
   "outputs": [],
   "source": [
    "AA = []\n",
    "PP = []\n",
    "DD = []\n",
    "\n",
    "for dd in range(0,10):\n",
    "    a , p, d = cycle(200e12, 1+dd/10)\n",
    "    AA.append(a)\n",
    "    PP.append(p)\n",
    "    DD.append(d)"
   ]
  },
  {
   "cell_type": "code",
   "execution_count": null,
   "metadata": {},
   "outputs": [],
   "source": [
    "x = 1+ np.linspace(1,10,10)*0.1\n",
    "plt.plot(x,PP,'rx')\n",
    "plt.show()\n",
    "\n",
    "print(max(PP)-min(PP))"
   ]
  },
  {
   "cell_type": "code",
   "execution_count": null,
   "metadata": {},
   "outputs": [],
   "source": [
    "# rensponse of the MZI\n",
    "x = 1+ np.linspace(1,10,10)*0.1\n",
    "plt.plot(x, (IFI+np.square(AA)+np.sqrt(AA*IFA)*np.cos(PP-PP[0]) )/IFI )\n",
    "plt.show()"
   ]
  },
  {
   "cell_type": "code",
   "execution_count": null,
   "metadata": {},
   "outputs": [],
   "source": []
  },
  {
   "cell_type": "code",
   "execution_count": null,
   "metadata": {
    "collapsed": true
   },
   "outputs": [],
   "source": []
  }
 ],
 "metadata": {
  "kernelspec": {
   "display_name": "Python 3",
   "language": "python",
   "name": "python3"
  },
  "language_info": {
   "codemirror_mode": {
    "name": "ipython",
    "version": 3
   },
   "file_extension": ".py",
   "mimetype": "text/x-python",
   "name": "python",
   "nbconvert_exporter": "python",
   "pygments_lexer": "ipython3",
   "version": "3.5.3"
  }
 },
 "nbformat": 4,
 "nbformat_minor": 2
}
