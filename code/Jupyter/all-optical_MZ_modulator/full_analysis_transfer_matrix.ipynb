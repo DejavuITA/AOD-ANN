{
 "cells": [
  {
   "cell_type": "code",
   "execution_count": 1,
   "metadata": {
    "collapsed": true
   },
   "outputs": [],
   "source": [
    "# plotting libraries\n",
    "import matplotlib\n",
    "import matplotlib.pyplot as plt \n",
    "# numpy (math) libary\n",
    "import numpy as np "
   ]
  },
  {
   "cell_type": "code",
   "execution_count": 2,
   "metadata": {},
   "outputs": [
    {
     "name": "stdout",
     "output_type": "stream",
     "text": [
      "193.41448903225807 THz\n"
     ]
    }
   ],
   "source": [
    "# Constants\n",
    "n0 = 3.48 # standard refractive index\n",
    "n2 = 5e-14 # [1/(W/cm²)] intensity-dependent refractive index\n",
    "n2 = 5e-18 # [1/(W/m²)]  intensity-dependent refractive index\n",
    "e0 = 8.85418782e-12 # [F/m] vacuum permittivity epsilon_0\n",
    "c0 = 299792458 # [m/s] speed of light in vacuum c_0\n",
    "\n",
    "# useful constants\n",
    "w155 = 1.55e-6 # [m] working wavelength\n",
    "f155 = c0/w155 # ~ 193.4 e12 [Hz] or e0 [THz] working frequency\n",
    "print(f155/1.0e12, 'THz')\n",
    "w150 = 1.50e-6 # [m]\n",
    "f150 = c0/w150 # ~ 199.8 e12 [Hz] or e0 [THz]\n",
    "#print(f150/1.0e12)\n",
    "w160 = 1.60e-6 # [m]\n",
    "f160 = c0/w160 # ~ 187.4 e12 [Hz] or e0 [THz]\n",
    "#print(f160/1.0e12)\n",
    "w154 = 1.54e-6 # [m]\n",
    "f154 = c0/w154 # ~ 194.7 e12 [Hz] or e0 [THz]\n",
    "#print(f154/1.0e12)\n",
    "w156 = 1.56e-6 # [m]\n",
    "f156 = c0/w156 # ~ 192.2 e12 [Hz] or e0 [THz]\n",
    "#print(f156/1.0e12)"
   ]
  },
  {
   "cell_type": "code",
   "execution_count": 3,
   "metadata": {
    "collapsed": true
   },
   "outputs": [],
   "source": [
    "# useful functions\n",
    "def wlen_to_freq(wlen):\n",
    "    return c0/wlen # return the frequency [Hz] from the wavelength [m]"
   ]
  },
  {
   "cell_type": "code",
   "execution_count": 4,
   "metadata": {
    "collapsed": true
   },
   "outputs": [],
   "source": [
    "# define transmission factor and half-ring loss factor as\n",
    "# dependent of frequency and field amplitude\n",
    "def tf(f, Ew):\n",
    "    return t\n",
    "\n",
    "def sf(f, Ew):\n",
    "    return np.power( 1-np.power(tf(f, Ew), 2) , 0.5)\n",
    "\n",
    "def Bf(f, Ew):\n",
    "    return B\n",
    "\n",
    "# intensity of beam, given field amplitude\n",
    "def Iw(E_field):\n",
    "    return 0.5 * e0*n0*c0 * np.power(np.abs(E_field), 2)\n",
    "\n",
    "# total refractive index\n",
    "# ---> CHANGE this with propagation index of waveguide,\n",
    "#      aka the effective refractive index of the waveguide/ring n_eff\n",
    "def n(frequency, E_int):\n",
    "    return n0+n2*Iw(E_int)+0*frequency\n",
    "\n",
    "# argument of the complex exponential\n",
    "def psi(frequency, E_int):\n",
    "    return (2*np.pi*R)/2 * (2*np.pi/c0*frequency) * n(frequency, E_int)"
   ]
  },
  {
   "cell_type": "code",
   "execution_count": 5,
   "metadata": {
    "collapsed": true
   },
   "outputs": [],
   "source": [
    "# Parameters\n",
    "t = 0.1 # transmission factor, ideally 0.0\n",
    "s = (1-t**2)**0.5\n",
    "B = 0.95 # half-ring loss factor, ideally 1.0. B=0.95 is obtained for a R=10e-6 with losses of 10dB/µm\n",
    "R = 10e-6 # radius of curvature\n",
    "\n",
    "dephi = np.pi # dephasing between the sum signal and the arm signal\n",
    "\n",
    "inFA = 1.0e7 # input field amplitude\n",
    "inFI = Iw(inFA) # input field intensity"
   ]
  },
  {
   "cell_type": "code",
   "execution_count": 6,
   "metadata": {
    "collapsed": true
   },
   "outputs": [],
   "source": [
    "# transmittivity\n",
    "def tau(f, E_int):\n",
    "    # 'm' is the ratio between E_laser² and E_sum²\n",
    "    numerator =     - np.power(sf(f, E_int), 2) * Bf(f, E_int) * np.exp( 1J * psi(f, E_int) ) \n",
    "    denumerator = 1 - np.power(tf(f, E_int), 2) * Bf(f, E_int) * np.exp( 2J * psi(f, E_int) )\n",
    "    return numerator / denumerator\n",
    "\n",
    "def output_intensity(f, inFA, E_int=0.0):\n",
    "    return Iw(inFA)*np.power( np.abs( tau( f, E_int) ), 2)\n",
    "\n",
    "def output_phase(f, E_int=0.0):\n",
    "    return np.angle( tau( f, E_int) )\n",
    "\n",
    "def E_internal(f, inFA, E_int=0.0, dephi=0.0, m=0.0):\n",
    "    return abs(1+np.sqrt(m)*np.exp(1J*dephi))*inFA*np.abs( tau( f, E_int) /(1J*sf(f, E_int) ) )"
   ]
  },
  {
   "cell_type": "code",
   "execution_count": 7,
   "metadata": {
    "collapsed": true
   },
   "outputs": [],
   "source": [
    "# Frequency study of the µ-ring resonator\n",
    "x = np.linspace(wlen_to_freq(1.575e-6), wlen_to_freq(1.525e-6), 200)\n",
    "\n",
    "if False:\n",
    "#if True:\n",
    "    # relative output magnitude\n",
    "    y = np.abs(tau(x, 0.0))\n",
    "    plt.plot(x, y, 'rx')\n",
    "    plt.show()\n",
    "\n",
    "    # output phase\n",
    "    y2 = np.angle(tau(x, 0.0))\n",
    "    plt.plot(x, y2, 'b+')\n",
    "    plt.show()"
   ]
  },
  {
   "cell_type": "code",
   "execution_count": 8,
   "metadata": {
    "collapsed": true
   },
   "outputs": [],
   "source": [
    "# evaluate the amplitude of the internal field iteratively\n",
    "# and store data steps in array.\n",
    "# Works with single m value or with m-array value.\n",
    "# However, in this way the error constraint does not work.\n",
    "# Either is EE[ii,jj]-EE[ii-1,jj] >= error is False for\n",
    "# all values of jj, or the whole function is excecuted\n",
    "# until the iteration limit is reached\n",
    "def E_int_iterative(f, inFA, dephi=0.0, error=1e-16, max_iter= 1000, m=0.0):\n",
    "    EE = [E_internal(f, inFA, 0.0, dephi, m), ]\n",
    "    EE.append( E_internal(f, inFA, EE[0], dephi, m) )\n",
    "    \n",
    "    ii = 1\n",
    "    while (np.abs(EE[ii]-EE[ii-1]).any() >= error) and (ii != max_iter):\n",
    "        EE.append( E_internal(f, inFA, EE[-1], dephi, m) )\n",
    "        ii += 1\n",
    "    return EE\n",
    "\n",
    "# python maximum recursion depth is ~1000 -> non good implementation\n",
    "#def E_int_ricorsive(f, inFA, error, max_iter=1000, m=0.0, E_int=0.0):\n",
    "#    EE = E_internal(f, inFA, E_int, m)\n",
    "#    if (np.abs(EE-E_int) >= error) and (max_iter > 1):\n",
    "#        E_int_ricorsive(f, inFA, error, max_iter-1, m, EE)\n",
    "#    else:\n",
    "#        return [EE, np.abs(EE-E_int)]\n",
    "\n",
    "# plot amplitude and error of iteration for the same input parameters\n",
    "def plot_E_int_and_diff(vectE, start=0, stop=-1):\n",
    "    if stop==-1:\n",
    "        stop = len(vectE)\n",
    "    \n",
    "    fig = plt.figure()\n",
    "    ax1 = fig.add_subplot(111)\n",
    "    ax1.plot(np.arange(start, stop), vectE[start:stop], 'bx')\n",
    "    ax1.set_xlabel('iteration')\n",
    "    ax1.set_ylabel('|E_internal|', color='b')\n",
    "    ax1.tick_params('y', colors='b')\n",
    "\n",
    "    ax2 = ax1.twinx()\n",
    "    ax2.plot(np.arange(start+.5, stop-.5),np.diff(vectE[start:stop]), 'rx')\n",
    "    ax2.set_ylabel('d|E_internal|', color='r')\n",
    "    ax2.tick_params('y', colors='r')\n",
    "    \n",
    "    plt.show()\n",
    "    plt.close()"
   ]
  },
  {
   "cell_type": "code",
   "execution_count": 9,
   "metadata": {},
   "outputs": [
    {
     "name": "stdout",
     "output_type": "stream",
     "text": [
      "d has shape (4, 21)\n",
      "Sum signal to Arm signal ratio m= 0.0\n",
      "final value E_int= 9534808.39552 and last error 0.0\n"
     ]
    },
    {
     "data": {
      "image/png": "[encoded data removed]",
      "text/plain": [
       "<matplotlib.figure.Figure at 0x7fcbbd60ddd8>"
      ]
     },
     "metadata": {},
     "output_type": "display_data"
    },
    {
     "name": "stdout",
     "output_type": "stream",
     "text": [
      "Sum signal to Arm signal ratio m= 2.0\n",
      "final value E_int= 3949453.93042 and last error 0.0\n"
     ]
    },
    {
     "data": {
      "image/png": "[encoded data removed]",
      "text/plain": [
       "<matplotlib.figure.Figure at 0x7fcbbd2d1b38>"
      ]
     },
     "metadata": {},
     "output_type": "display_data"
    }
   ],
   "source": [
    "# evaluation works for single parameters\n",
    "a = E_int_iterative(f155, inFA, dephi, 1e-16, 1000, 0.0)\n",
    "b = E_int_iterative(f155, inFA, dephi, 1e-16, 2*10000, 1.2)\n",
    "c = E_int_iterative(f155, inFA, dephi, 1e-16, 1000, 2.0)\n",
    "# or for m as array\n",
    "d = np.array(E_int_iterative(f155, inFA, dephi, 1e-16, 10000, np.arange(0.0,2.1,0.1) ))\n",
    "print('d has shape', np.shape(d))\n",
    "\n",
    "if True:\n",
    "#if False:\n",
    "    # show the last ten points of the \"stuck\" value.\n",
    "    # it clearly show oscillation around a certain value\n",
    "    #print('Sum signal to Arm signal ratio m=', 1.2)\n",
    "    #print('final value E_int=', b[-1], 'and last error', np.diff(b)[-1])\n",
    "    #plot_E_int_and_diff(b, len(b)-11, len(b))\n",
    "\n",
    "    # graphs for good iterations\n",
    "    print('Sum signal to Arm signal ratio m=', 0.0)\n",
    "    print('final value E_int=', a[-1], 'and last error', np.diff(a)[-1])\n",
    "    plot_E_int_and_diff(a)\n",
    "    print('Sum signal to Arm signal ratio m=', 2.0)\n",
    "    print('final value E_int=', d[-1,-1], 'and last error', d[-1,-1]-d[-2,-1])\n",
    "    plot_E_int_and_diff(d[:,-1])\n",
    "\n",
    "    # function also work for m array\n",
    "    #print('Sum signal to Arm signal ratio m=', 1.2)\n",
    "    #print('final value E_int=', b[-1], 'and last error', np.diff(b)[-1])\n",
    "    #plot_E_int_and_diff(d[:,12], len(d[:,12])-11, len(d[:,12]))\n",
    "\n",
    "del a,b,c,d"
   ]
  },
  {
   "cell_type": "code",
   "execution_count": 10,
   "metadata": {
    "scrolled": false
   },
   "outputs": [
    {
     "data": {
      "image/png": "[encoded data removed]",
      "text/plain": [
       "<matplotlib.figure.Figure at 0x7fcbbd12e518>"
      ]
     },
     "metadata": {},
     "output_type": "display_data"
    },
    {
     "data": {
      "image/png": "[encoded data removed]",
      "text/plain": [
       "<matplotlib.figure.Figure at 0x7fcbbd16ae48>"
      ]
     },
     "metadata": {},
     "output_type": "display_data"
    },
    {
     "data": {
      "image/png": "[encoded data removed]",
      "text/plain": [
       "<matplotlib.figure.Figure at 0x7fcbbd0227b8>"
      ]
     },
     "metadata": {},
     "output_type": "display_data"
    },
    {
     "data": {
      "image/png": "[encoded data removed]",
      "text/plain": [
       "<matplotlib.figure.Figure at 0x7fcbbcf90198>"
      ]
     },
     "metadata": {},
     "output_type": "display_data"
    },
    {
     "name": "stdout",
     "output_type": "stream",
     "text": [
      "input field intensity:  461868859046.0 [W/m²]\n",
      "~ in a 0.2µm*0.5µm:  4.61868859046 [W]\n",
      "dephase: 0, visibility:  5.24565613717e-06\n",
      "dephase: pi/2, visibility:  2.11711463871e-06\n",
      "dephase: pi, visibility:  1.02901093101e-06\n"
     ]
    }
   ],
   "source": [
    "# Parameters\n",
    "t = 0.1     # transmission factor, ideally 0.0\n",
    "s = (1-t**2)**0.5\n",
    "B = 0.95    # half-ring loss factor, ideally 1.0.\n",
    "            # B=0.95 is obtained for a R=10e-6 with losses of 10dB/µm\n",
    "R = 10e-6   # radius of curvature\n",
    "\n",
    "dephi = 0 # dephasing between the sum signal and the arm signal\n",
    "\n",
    "inFA = 1e7  # input field amplitude\n",
    "inFI = Iw(inFA)  # input field intensity\n",
    "\n",
    "#for mm in range(20):\n",
    "#    temp = E_int_iterative(f155, inFA, 1e-16, 1000, mm/10.0)\n",
    "#    data.append( temp[0] )\n",
    "#    errors.append( temp[1] )\n",
    "#    \n",
    "#    #if True:\n",
    "#    if False:\n",
    "#        print(data[-1],'\\t', errors[-1])\n",
    "#        \n",
    "#    del temp\n",
    "\n",
    "# value of the Sum field as ratio with MZ arm field\n",
    "x = np.arange(0.0,2.1,0.1)\n",
    "\n",
    "# internal field intensity evaluated iteratively\n",
    "data1 = np.array(E_int_iterative(f155, inFA, 0.0, 1e-16, 1000, x ))\n",
    "E_data1 = data1[-1,:] # last value\n",
    "E_data_err1 = np.abs(data1[-1,:]-data1[-2,:]) # error\n",
    "\n",
    "data2 = np.array(E_int_iterative(f155, inFA, np.pi/2, 1e-16, 1000, x ))\n",
    "E_data2 = data2[-1,:] # last value\n",
    "E_data_err2 = np.abs(data2[-1,:]-data2[-2,:]) # error\n",
    "\n",
    "data3 = np.array(E_int_iterative(f155, inFA, np.pi, 1e-16, 1000, x ))\n",
    "E_data3 = data3[-1,:] # last value\n",
    "E_data_err3 = np.abs(data3[-1,:]-data3[-2,:]) # error\n",
    "\n",
    "# plot internal field as function of field ratio with errorbars\n",
    "# normalized with inFI\n",
    "plt.errorbar(x , Iw(E_data1)/inFI, yerr=E_data_err1, fmt='x', color='r')\n",
    "plt.errorbar(x , Iw(E_data2)/inFI, yerr=E_data_err2, fmt='x', color='b')\n",
    "plt.errorbar(x , Iw(E_data3)/inFI, yerr=E_data_err3, fmt='x', color='g')\n",
    "plt.title(\"Internal field intensity [W/m²]\")\n",
    "plt.show()\n",
    "plt.close()\n",
    "\n",
    "# evaluate phase difference as function of intensity ratio\n",
    "y11 = output_phase(f155, E_data1)\n",
    "y21 = output_phase(f155, E_data2)\n",
    "y31 = output_phase(f155, E_data3)\n",
    "# evaluate output intensity as function of intensity ratio\n",
    "y12 = output_intensity(f155, inFA, E_data1)\n",
    "y22 = output_intensity(f155, inFA, E_data2)\n",
    "y32 = output_intensity(f155, inFA, E_data3)\n",
    "# evaluate output amplitude of the MZ interferometer\n",
    "y13 = inFI+y12+2*np.sqrt(y12*inFI)*np.cos(y11-y11[0])\n",
    "y23 = inFI+y22+2*np.sqrt(y22*inFI)*np.cos(y21-y21[0])\n",
    "y33 = inFI+y32+2*np.sqrt(y32*inFI)*np.cos(y31-y31[0])\n",
    "\n",
    "# plot phase difference as function of field ratio\n",
    "plt.plot(x, y11, 'rx')\n",
    "plt.plot(x, y21, 'bx')\n",
    "plt.plot(x, y31, 'gx')\n",
    "plt.title(\"Output arm signal phase [W/m²]\")\n",
    "plt.show()\n",
    "plt.close()\n",
    "# plot output amplitude as function of field ratio,\n",
    "# normalized with input field intensity\n",
    "plt.plot(x, y12/inFI, 'rx')\n",
    "plt.plot(x, y22/inFI, 'bx')\n",
    "plt.plot(x, y32/inFI, 'gx')\n",
    "plt.title(\"Output arm signal intensity [W/m²]\")\n",
    "plt.show()\n",
    "plt.close()\n",
    "# plot MZI output intensity as function of field ratio\n",
    "plt.plot(x, y13/inFI , 'rx')\n",
    "plt.plot(x, y33/inFI , 'bx')\n",
    "plt.plot(x, y33/inFI , 'gx')\n",
    "plt.title(\"MZ interferometer output intensity [W/m²]\")\n",
    "plt.show()\n",
    "plt.close()\n",
    "\n",
    "visibility1=(max(y13/inFI)-min(y13/inFI))/(max(y13/inFI)+min(y13/inFI))\n",
    "visibility2=(max(y23/inFI)-min(y23/inFI))/(max(y23/inFI)+min(y23/inFI))\n",
    "visibility3=(max(y33/inFI)-min(y33/inFI))/(max(y33/inFI)+min(y33/inFI))\n",
    "\n",
    "print(\"input field intensity: \", inFI, \"[W/m²]\")\n",
    "print(\"~ in a 0.2µm*0.5µm: \", inFI*2e-6*5e-6, \"[W]\")\n",
    "print(\"dephase: 0, visibility: \", visibility1)\n",
    "print(\"dephase: pi/2, visibility: \", visibility2)\n",
    "print(\"dephase: pi, visibility: \", visibility3)"
   ]
  },
  {
   "cell_type": "code",
   "execution_count": null,
   "metadata": {
    "collapsed": true
   },
   "outputs": [],
   "source": []
  }
 ],
 "metadata": {
  "kernelspec": {
   "display_name": "Python 3",
   "language": "python",
   "name": "python3"
  },
  "language_info": {
   "codemirror_mode": {
    "name": "ipython",
    "version": 3
   },
   "file_extension": ".py",
   "mimetype": "text/x-python",
   "name": "python",
   "nbconvert_exporter": "python",
   "pygments_lexer": "ipython3",
   "version": "3.5.3"
  }
 },
 "nbformat": 4,
 "nbformat_minor": 2
}
