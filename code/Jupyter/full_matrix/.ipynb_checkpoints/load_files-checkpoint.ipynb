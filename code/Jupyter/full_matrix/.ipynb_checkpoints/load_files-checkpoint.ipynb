{
 "cells": [
  {
   "cell_type": "code",
   "execution_count": 13,
   "metadata": {
    "collapsed": true
   },
   "outputs": [],
   "source": [
    "# plotting libraries\n",
    "import matplotlib\n",
    "import matplotlib.pyplot as plt \n",
    "# numpy (math) libary\n",
    "import numpy as np\n",
    "# csv reading library\n",
    "import csv"
   ]
  },
  {
   "cell_type": "code",
   "execution_count": 14,
   "metadata": {
    "collapsed": true
   },
   "outputs": [],
   "source": [
    "#################################################\n",
    "######          FULL MATRIX CHIP           ######\n",
    "\n",
    "folder = 'data/'\n",
    "date1 = '2017-10-23'\n",
    "date2 = '2017-10-24'\n",
    "date3 = '2017-10-25'\n",
    "date4 = '2017-10-27'\n",
    "\n",
    "path1 = folder+date1+'/'+date1\n",
    "path2 = folder+date2+'/'+date2\n",
    "path3 = folder+date3+'/'+date3\n",
    "path4 = folder+date4+'/*.tsv'"
   ]
  },
  {
   "cell_type": "code",
   "execution_count": 15,
   "metadata": {
    "collapsed": true
   },
   "outputs": [],
   "source": [
    "import glob\n",
    "files_1 = glob.glob(path4)  "
   ]
  },
  {
   "cell_type": "code",
   "execution_count": 16,
   "metadata": {},
   "outputs": [
    {
     "name": "stdout",
     "output_type": "stream",
     "text": [
      "['data/2017-10-27/2017-10-27_P2mW_deg14_w6o6_wlen1500-1570_medG.tsv', 'data/2017-10-27/2017-10-27_P2mW_deg14_w6o6_wlen1500-1570_medG_2.tsv', 'data/2017-10-27/2017-10-27_P2mW_deg14_w7o7_wlen1500-1570_medG.tsv', 'data/2017-10-27/far_right_test.tsv']\n"
     ]
    }
   ],
   "source": [
    "print(files_1)"
   ]
  },
  {
   "cell_type": "code",
   "execution_count": 17,
   "metadata": {},
   "outputs": [
    {
     "name": "stdout",
     "output_type": "stream",
     "text": [
      "_w6o\n",
      "_w6o\n",
      "_w7o\n",
      "\n"
     ]
    }
   ],
   "source": [
    "for file in files_1:\n",
    "    with open(file, 'r') as fp1:\n",
    "        reader = csv.reader(fp1, delimiter='\\t', quotechar='\"')\n",
    "        #ch1o1 = np.array([row for row in reader], dtype=float)\n",
    "        print(file[37:41])\n",
    "        \n",
    "    fp1.close()\n",
    "    del reader"
   ]
  },
  {
   "cell_type": "code",
   "execution_count": 18,
   "metadata": {
    "collapsed": true
   },
   "outputs": [],
   "source": [
    "data = np.loadtxt('data/2017-10-27/2017-10-27_P2mW_deg14_w6o6_wlen1500-1570_medG.tsv')"
   ]
  },
  {
   "cell_type": "code",
   "execution_count": 25,
   "metadata": {},
   "outputs": [
    {
     "data": {
      "image/png": "[encoded data removed]",
      "text/plain": [
       "<matplotlib.figure.Figure at 0x7f203ddf18d0>"
      ]
     },
     "metadata": {},
     "output_type": "display_data"
    }
   ],
   "source": [
    "plt.plot(data[:,0], data[:,1])\n",
    "plt.show()\n",
    "plt.close()"
   ]
  },
  {
   "cell_type": "code",
   "execution_count": 26,
   "metadata": {},
   "outputs": [
    {
     "ename": "SyntaxError",
     "evalue": "invalid syntax (<ipython-input-26-53e8bf68317c>, line 1)",
     "output_type": "error",
     "traceback": [
      "\u001b[0;36m  File \u001b[0;32m\"<ipython-input-26-53e8bf68317c>\"\u001b[0;36m, line \u001b[0;32m1\u001b[0m\n\u001b[0;31m    d['var1']np.loadtxt()\u001b[0m\n\u001b[0m              ^\u001b[0m\n\u001b[0;31mSyntaxError\u001b[0m\u001b[0;31m:\u001b[0m invalid syntax\n"
     ]
    }
   ],
   "source": [
    "d = {}\n",
    "d['var1'] = np.loadtxt('path1')\n",
    "d['var2'] = np.loadtxt('path2')\n",
    "d['var3'] = np.loadtxt('path3')\n",
    "\n",
    "plt.plot(d['var1'][:,0], d['var1'][:,1])\n",
    "plt.plot(d['var2'][:,0], d['var2'][:,1])\n",
    "plt.plot(d['var3'][:,0], d['var3'][:,1])\n",
    "\n",
    "plt.show()\n",
    "plt.close()"
   ]
  },
  {
   "cell_type": "code",
   "execution_count": null,
   "metadata": {
    "collapsed": true
   },
   "outputs": [],
   "source": []
  }
 ],
 "metadata": {
  "kernelspec": {
   "display_name": "Python 3",
   "language": "python",
   "name": "python3"
  },
  "language_info": {
   "codemirror_mode": {
    "name": "ipython",
    "version": 3
   },
   "file_extension": ".py",
   "mimetype": "text/x-python",
   "name": "python",
   "nbconvert_exporter": "python",
   "pygments_lexer": "ipython3",
   "version": "3.5.3"
  }
 },
 "nbformat": 4,
 "nbformat_minor": 2
}
